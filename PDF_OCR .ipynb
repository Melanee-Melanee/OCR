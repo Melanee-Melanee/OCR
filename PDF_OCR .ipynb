{
  "nbformat": 4,
  "nbformat_minor": 0,
  "metadata": {
    "colab": {
      "provenance": []
    },
    "kernelspec": {
      "name": "python3",
      "display_name": "Python 3"
    },
    "language_info": {
      "name": "python"
    }
  },
  "cells": [
    {
      "cell_type": "code",
      "source": [
        "!apt-get install -y tesseract-ocr\n",
        "#for Persian OCR:\n",
        "!apt-get install -y tesseract-ocr-fas"
      ],
      "metadata": {
        "colab": {
          "base_uri": "https://localhost:8080/"
        },
        "id": "Q6Tk1Z9egAXb",
        "outputId": "9e0d571e-a8d1-4846-8f72-b575244fbb1b"
      },
      "execution_count": 24,
      "outputs": [
        {
          "output_type": "stream",
          "name": "stdout",
          "text": [
            "Reading package lists... Done\n",
            "Building dependency tree... Done\n",
            "Reading state information... Done\n",
            "tesseract-ocr is already the newest version (4.1.1-2.1build1).\n",
            "0 upgraded, 0 newly installed, 0 to remove and 4 not upgraded.\n",
            "Reading package lists... Done\n",
            "Building dependency tree... Done\n",
            "Reading state information... Done\n",
            "The following NEW packages will be installed:\n",
            "  tesseract-ocr-fas\n",
            "0 upgraded, 1 newly installed, 0 to remove and 4 not upgraded.\n",
            "Need to get 301 kB of archives.\n",
            "After this operation, 446 kB of additional disk space will be used.\n",
            "Get:1 http://archive.ubuntu.com/ubuntu jammy/universe amd64 tesseract-ocr-fas all 1:4.00~git30-7274cfa-1.1 [301 kB]\n",
            "Fetched 301 kB in 1s (547 kB/s)\n",
            "Selecting previously unselected package tesseract-ocr-fas.\n",
            "(Reading database ... 123708 files and directories currently installed.)\n",
            "Preparing to unpack .../tesseract-ocr-fas_1%3a4.00~git30-7274cfa-1.1_all.deb ...\n",
            "Unpacking tesseract-ocr-fas (1:4.00~git30-7274cfa-1.1) ...\n",
            "Setting up tesseract-ocr-fas (1:4.00~git30-7274cfa-1.1) ...\n"
          ]
        }
      ]
    },
    {
      "cell_type": "code",
      "source": [
        "!pip install pytesseract pdf2image Pillow"
      ],
      "metadata": {
        "colab": {
          "base_uri": "https://localhost:8080/"
        },
        "id": "cVMCVb6Yg6cj",
        "outputId": "36cd03f2-5fa7-4a32-c163-4171046ec1f5"
      },
      "execution_count": 5,
      "outputs": [
        {
          "output_type": "stream",
          "name": "stdout",
          "text": [
            "Collecting pytesseract\n",
            "  Using cached pytesseract-0.3.13-py3-none-any.whl.metadata (11 kB)\n",
            "Collecting pdf2image\n",
            "  Downloading pdf2image-1.17.0-py3-none-any.whl.metadata (6.2 kB)\n",
            "Requirement already satisfied: Pillow in /usr/local/lib/python3.10/dist-packages (11.0.0)\n",
            "Requirement already satisfied: packaging>=21.3 in /usr/local/lib/python3.10/dist-packages (from pytesseract) (24.2)\n",
            "Downloading pytesseract-0.3.13-py3-none-any.whl (14 kB)\n",
            "Downloading pdf2image-1.17.0-py3-none-any.whl (11 kB)\n",
            "Installing collected packages: pytesseract, pdf2image\n",
            "Successfully installed pdf2image-1.17.0 pytesseract-0.3.13\n"
          ]
        }
      ]
    },
    {
      "cell_type": "code",
      "source": [
        "!apt-get install -y poppler-utils"
      ],
      "metadata": {
        "colab": {
          "base_uri": "https://localhost:8080/"
        },
        "id": "mUcMgtKbhaA2",
        "outputId": "1d26aae1-9981-4283-f638-349ad60b75a6"
      },
      "execution_count": 19,
      "outputs": [
        {
          "output_type": "stream",
          "name": "stdout",
          "text": [
            "Reading package lists... Done\n",
            "Building dependency tree... Done\n",
            "Reading state information... Done\n",
            "The following NEW packages will be installed:\n",
            "  poppler-utils\n",
            "0 upgraded, 1 newly installed, 0 to remove and 4 not upgraded.\n",
            "Need to get 186 kB of archives.\n",
            "After this operation, 696 kB of additional disk space will be used.\n",
            "Get:1 http://archive.ubuntu.com/ubuntu jammy-updates/main amd64 poppler-utils amd64 22.02.0-2ubuntu0.5 [186 kB]\n",
            "Fetched 186 kB in 0s (438 kB/s)\n",
            "Selecting previously unselected package poppler-utils.\n",
            "(Reading database ... 123678 files and directories currently installed.)\n",
            "Preparing to unpack .../poppler-utils_22.02.0-2ubuntu0.5_amd64.deb ...\n",
            "Unpacking poppler-utils (22.02.0-2ubuntu0.5) ...\n",
            "Setting up poppler-utils (22.02.0-2ubuntu0.5) ...\n",
            "Processing triggers for man-db (2.10.2-1) ...\n"
          ]
        }
      ]
    },
    {
      "cell_type": "code",
      "source": [
        "#upload your pdf\n",
        "from google.colab import files\n",
        "uploaded = files.upload()"
      ],
      "metadata": {
        "colab": {
          "base_uri": "https://localhost:8080/",
          "height": 73
        },
        "id": "OnkFu76fiI0g",
        "outputId": "93c7320b-aa80-45fa-c2e5-36d2c2a02574"
      },
      "execution_count": 29,
      "outputs": [
        {
          "output_type": "display_data",
          "data": {
            "text/plain": [
              "<IPython.core.display.HTML object>"
            ],
            "text/html": [
              "\n",
              "     <input type=\"file\" id=\"files-adc7df71-ecb2-49cb-8dba-497fbc26e869\" name=\"files[]\" multiple disabled\n",
              "        style=\"border:none\" />\n",
              "     <output id=\"result-adc7df71-ecb2-49cb-8dba-497fbc26e869\">\n",
              "      Upload widget is only available when the cell has been executed in the\n",
              "      current browser session. Please rerun this cell to enable.\n",
              "      </output>\n",
              "      <script>// Copyright 2017 Google LLC\n",
              "//\n",
              "// Licensed under the Apache License, Version 2.0 (the \"License\");\n",
              "// you may not use this file except in compliance with the License.\n",
              "// You may obtain a copy of the License at\n",
              "//\n",
              "//      http://www.apache.org/licenses/LICENSE-2.0\n",
              "//\n",
              "// Unless required by applicable law or agreed to in writing, software\n",
              "// distributed under the License is distributed on an \"AS IS\" BASIS,\n",
              "// WITHOUT WARRANTIES OR CONDITIONS OF ANY KIND, either express or implied.\n",
              "// See the License for the specific language governing permissions and\n",
              "// limitations under the License.\n",
              "\n",
              "/**\n",
              " * @fileoverview Helpers for google.colab Python module.\n",
              " */\n",
              "(function(scope) {\n",
              "function span(text, styleAttributes = {}) {\n",
              "  const element = document.createElement('span');\n",
              "  element.textContent = text;\n",
              "  for (const key of Object.keys(styleAttributes)) {\n",
              "    element.style[key] = styleAttributes[key];\n",
              "  }\n",
              "  return element;\n",
              "}\n",
              "\n",
              "// Max number of bytes which will be uploaded at a time.\n",
              "const MAX_PAYLOAD_SIZE = 100 * 1024;\n",
              "\n",
              "function _uploadFiles(inputId, outputId) {\n",
              "  const steps = uploadFilesStep(inputId, outputId);\n",
              "  const outputElement = document.getElementById(outputId);\n",
              "  // Cache steps on the outputElement to make it available for the next call\n",
              "  // to uploadFilesContinue from Python.\n",
              "  outputElement.steps = steps;\n",
              "\n",
              "  return _uploadFilesContinue(outputId);\n",
              "}\n",
              "\n",
              "// This is roughly an async generator (not supported in the browser yet),\n",
              "// where there are multiple asynchronous steps and the Python side is going\n",
              "// to poll for completion of each step.\n",
              "// This uses a Promise to block the python side on completion of each step,\n",
              "// then passes the result of the previous step as the input to the next step.\n",
              "function _uploadFilesContinue(outputId) {\n",
              "  const outputElement = document.getElementById(outputId);\n",
              "  const steps = outputElement.steps;\n",
              "\n",
              "  const next = steps.next(outputElement.lastPromiseValue);\n",
              "  return Promise.resolve(next.value.promise).then((value) => {\n",
              "    // Cache the last promise value to make it available to the next\n",
              "    // step of the generator.\n",
              "    outputElement.lastPromiseValue = value;\n",
              "    return next.value.response;\n",
              "  });\n",
              "}\n",
              "\n",
              "/**\n",
              " * Generator function which is called between each async step of the upload\n",
              " * process.\n",
              " * @param {string} inputId Element ID of the input file picker element.\n",
              " * @param {string} outputId Element ID of the output display.\n",
              " * @return {!Iterable<!Object>} Iterable of next steps.\n",
              " */\n",
              "function* uploadFilesStep(inputId, outputId) {\n",
              "  const inputElement = document.getElementById(inputId);\n",
              "  inputElement.disabled = false;\n",
              "\n",
              "  const outputElement = document.getElementById(outputId);\n",
              "  outputElement.innerHTML = '';\n",
              "\n",
              "  const pickedPromise = new Promise((resolve) => {\n",
              "    inputElement.addEventListener('change', (e) => {\n",
              "      resolve(e.target.files);\n",
              "    });\n",
              "  });\n",
              "\n",
              "  const cancel = document.createElement('button');\n",
              "  inputElement.parentElement.appendChild(cancel);\n",
              "  cancel.textContent = 'Cancel upload';\n",
              "  const cancelPromise = new Promise((resolve) => {\n",
              "    cancel.onclick = () => {\n",
              "      resolve(null);\n",
              "    };\n",
              "  });\n",
              "\n",
              "  // Wait for the user to pick the files.\n",
              "  const files = yield {\n",
              "    promise: Promise.race([pickedPromise, cancelPromise]),\n",
              "    response: {\n",
              "      action: 'starting',\n",
              "    }\n",
              "  };\n",
              "\n",
              "  cancel.remove();\n",
              "\n",
              "  // Disable the input element since further picks are not allowed.\n",
              "  inputElement.disabled = true;\n",
              "\n",
              "  if (!files) {\n",
              "    return {\n",
              "      response: {\n",
              "        action: 'complete',\n",
              "      }\n",
              "    };\n",
              "  }\n",
              "\n",
              "  for (const file of files) {\n",
              "    const li = document.createElement('li');\n",
              "    li.append(span(file.name, {fontWeight: 'bold'}));\n",
              "    li.append(span(\n",
              "        `(${file.type || 'n/a'}) - ${file.size} bytes, ` +\n",
              "        `last modified: ${\n",
              "            file.lastModifiedDate ? file.lastModifiedDate.toLocaleDateString() :\n",
              "                                    'n/a'} - `));\n",
              "    const percent = span('0% done');\n",
              "    li.appendChild(percent);\n",
              "\n",
              "    outputElement.appendChild(li);\n",
              "\n",
              "    const fileDataPromise = new Promise((resolve) => {\n",
              "      const reader = new FileReader();\n",
              "      reader.onload = (e) => {\n",
              "        resolve(e.target.result);\n",
              "      };\n",
              "      reader.readAsArrayBuffer(file);\n",
              "    });\n",
              "    // Wait for the data to be ready.\n",
              "    let fileData = yield {\n",
              "      promise: fileDataPromise,\n",
              "      response: {\n",
              "        action: 'continue',\n",
              "      }\n",
              "    };\n",
              "\n",
              "    // Use a chunked sending to avoid message size limits. See b/62115660.\n",
              "    let position = 0;\n",
              "    do {\n",
              "      const length = Math.min(fileData.byteLength - position, MAX_PAYLOAD_SIZE);\n",
              "      const chunk = new Uint8Array(fileData, position, length);\n",
              "      position += length;\n",
              "\n",
              "      const base64 = btoa(String.fromCharCode.apply(null, chunk));\n",
              "      yield {\n",
              "        response: {\n",
              "          action: 'append',\n",
              "          file: file.name,\n",
              "          data: base64,\n",
              "        },\n",
              "      };\n",
              "\n",
              "      let percentDone = fileData.byteLength === 0 ?\n",
              "          100 :\n",
              "          Math.round((position / fileData.byteLength) * 100);\n",
              "      percent.textContent = `${percentDone}% done`;\n",
              "\n",
              "    } while (position < fileData.byteLength);\n",
              "  }\n",
              "\n",
              "  // All done.\n",
              "  yield {\n",
              "    response: {\n",
              "      action: 'complete',\n",
              "    }\n",
              "  };\n",
              "}\n",
              "\n",
              "scope.google = scope.google || {};\n",
              "scope.google.colab = scope.google.colab || {};\n",
              "scope.google.colab._files = {\n",
              "  _uploadFiles,\n",
              "  _uploadFilesContinue,\n",
              "};\n",
              "})(self);\n",
              "</script> "
            ]
          },
          "metadata": {}
        },
        {
          "output_type": "stream",
          "name": "stdout",
          "text": [
            "Saving طرح طبقه بندی.pdf to طرح طبقه بندی.pdf\n"
          ]
        }
      ]
    },
    {
      "cell_type": "code",
      "source": [
        "import pytesseract\n",
        "from pdf2image import convert_from_path\n",
        "import os"
      ],
      "metadata": {
        "id": "F2vdrSj6gdg6"
      },
      "execution_count": 11,
      "outputs": []
    },
    {
      "cell_type": "code",
      "source": [
        "# Function to perform OCR and search for a keyword\n",
        "def ocr_pdf_and_search_keyword(pdf_path, keyword, lang= 'fas'):   # 'fas': Persian language (farsi)\n",
        "\n",
        "    # Convert PDF to images\n",
        "    images = convert_from_path(pdf_path)\n",
        "\n",
        "    # Initialize a variable to hold the extracted text\n",
        "    extracted_text = \"\"\n",
        "    keyword_found = False\n",
        "\n",
        "    # Loop through each image and perform OCR\n",
        "    for page_number, image in enumerate(images):\n",
        "        print(f\"Processing page {page_number + 1}/{len(images)}...\")\n",
        "        text = pytesseract.image_to_string(image, lang=lang)\n",
        "        extracted_text += text\n",
        "\n",
        "        # Check if the keyword is in the extracted text\n",
        "        if keyword.lower() in text.lower():\n",
        "            print(f\"Keyword '{keyword}' found on page {page_number + 1}.\")\n",
        "            keyword_found = True\n",
        "\n",
        "    if not keyword_found:\n",
        "        print(f\"Keyword '{keyword}' not found in the document.\")\n",
        "\n",
        "    return extracted_text"
      ],
      "metadata": {
        "id": "8JttVrD4ilUJ"
      },
      "execution_count": 32,
      "outputs": []
    },
    {
      "cell_type": "code",
      "source": [
        "# Example usage\n",
        "pdf_file_path = list(uploaded.keys())[0]  # Get the name of the uploaded PDF file\n",
        "search_keyword = 'الگوریتم'  # Replace with the keyword you want to search\n"
      ],
      "metadata": {
        "id": "BPooSaZBiulu"
      },
      "execution_count": 33,
      "outputs": []
    },
    {
      "cell_type": "code",
      "source": [
        "# Run the OCR and search for the keyword\n",
        "ocr_pdf_and_search_keyword(pdf_file_path, search_keyword, lang='fas')"
      ],
      "metadata": {
        "colab": {
          "base_uri": "https://localhost:8080/",
          "height": 487
        },
        "id": "Q42OspnLi5BQ",
        "outputId": "42bbcd22-62bb-4fc7-8276-d43005065b61"
      },
      "execution_count": 34,
      "outputs": [
        {
          "output_type": "stream",
          "name": "stdout",
          "text": [
            "Processing page 1/18...\n",
            "Processing page 2/18...\n",
            "Processing page 3/18...\n",
            "Processing page 4/18...\n",
            "Processing page 5/18...\n",
            "Processing page 6/18...\n",
            "Processing page 7/18...\n",
            "Keyword 'الگوریتم' found on page 7.\n",
            "Processing page 8/18...\n",
            "Processing page 9/18...\n",
            "Processing page 10/18...\n",
            "Processing page 11/18...\n",
            "Processing page 12/18...\n",
            "Processing page 13/18...\n",
            "Processing page 14/18...\n",
            "Processing page 15/18...\n",
            "Processing page 16/18...\n",
            "Processing page 17/18...\n",
            "Processing page 18/18...\n"
          ]
        },
        {
          "output_type": "execute_result",
          "data": {
            "text/plain": [
              "' \\n\\n۹620۳060 ۱۷۸۱1 ۲\\n\\n \\n\\n \\n\\n \\n\\nآموزشی\\n\\nکازشتاس\\nسح , و\\n\\nارربابی\\n\\nحصلی\\n\\nی و\\n\\nتارشتاض\\nب\\u200cباهه ر پیز ی\\n\\nآحو ر 2 یت\\n\\nمد\\u200cبر\\n\\nامور آمرزشی\\n\\nایس\\n\\nام ریز هشی\\n\\nکار شناس\\n\\nامررفرهنگی\\n\\nگارشتاسن\\n\\n۱-رسنه آموزشی و فرهنگی\\nشرابط احراز\\n\\n۰\\n\\nگراهیافه: لبساتس؛ فرق لیسانسء دکترای تخضصی و با اهنتراز در یکی از زشته های تحصیلی ۱\\n\\nمدیوب برنامه ریزی آموزشی؛ مدیریب. آمرزشی: برنامه ربرّی آموزشی؛ تکنولوژی, .\\n\\nآموزشی.تحقیقات آموزشی: برنامه ربزی درسی» علوم تربینی؛ مدیریت آموزش عالی؛ مدیریت\\n(منابم انسانی): آموزش و پرورش پیش دبستانی و دبستانی؛ آموزش بزرگسالان؛ تعلیم و نرییت\\n\\n۱\\n\\nرواد شناسی تربتی و آمار و متجش آمورش\\n\\n \\n\\nدارا بودن گواهيامه لیسانس ؛ وق لیسالس یا دکرا در یکی از رشته های تحصیلی گروه علوم ثرییتی\\n\\nو رشته های تحصبل. سلحش اندازه گیری و روان سنج و حصول تجارب مربوط.\\n\\n۱ دارا بودن گواهینامه لیسانس ۰ فوق لیسئس يا دکترا در یکی از رشته های تحصیلی گروه امور روان\\n\\nشناسی و مشاوره و ,رشته هاي, تحصلی بر نامه ریزی آموزشی : برنامه , بزی درسی \\u200f تاریخ و فلسفه\\nتعلیم و ترییت. ۰ تارین و قلسفه : تعلیم و تریست اسلامی ۰ علوم تربیتی ۰ مطالمات زئال\\u200cبا گرایشی های\\n\\nزد و خانواده : حعوق زن\\u200cدر اسالام و تاریخ زنانل و حصول تجارت مربوظط\\n\\nگراهینامه دکترا؛ فوی لیسانس یا یسانس در یکی از رشته هی تحصبلی گروه علوم تریتی ورشته\\n\\nهای تحصیلی(سنجش و انداره گیری وروان سنجی: آموزش وبرورش انتداین وسایر رشته های\\n\\nتحصیلی مرثبط با طی دوره های آموزشی ذیربط)وحصول تجارب بربوط طبق جدول شرابط احراژ\\nگراهینامه لیسانس؛ فوق انس دکترا و با همتراز دی یکی از رشته های تحصیلی پژوهشگری علوم\\n\\nاجتماعی: تطالعت زثان با گرایشهای رن و خان اد حقوق زن در اسلام و تارنخ زنان) و یا یکی از\\n\\nگراهینانه لیسانس: فوق لیساس دکتراوبا همنراز در یکی از رشته های تحصیلی عدبریت امور\\n\\nفرهنگی, برنامه ریزی امورفرهنگی فرهنگت و زبان های باستانی ايران :فرهنگ و ارئباطات » زبان و\\nادبیات فارسی؛ زیان وادبیات حزرب: فرهنگ. و معارف اننلامی \\u200f فرفتگك و ارتباطات \\u200f علوم احتماعی:\\nارتباطات اجتماعی؛ برنامه ریزی علوم احنماعی» پژرهشگری علوم اجتماعی ۰ خدمات اجساعی\\nججاععه شناسی مردم شناسی؛ جمعیت نناسی. روابط عمومی: تحعیق در ارباطات اجنماعی»الهیاث و\\nمعارف اسلامی؛ معارف اسلامی؛ فرهنگک وععارف اسلامی؛ علوم وحدیث؛ معازف اسلامی وتبلیغ\\nعلوم اسلامی: علوم فر آنی وحدیت؛ علوم قر آنی؛ زبان خارجی بین المللی؛ علوم سیاسی و روابط بین\\nالال . درحات ۳۱۱ حنظ قرآن مرشرع بخشبامه ذماره ۲۰۰/۱۳۲۳۶ مورخ 4:/۶/۱۴)\\n\\nاسلامی: فلسفه ٍ تاریخ تعلیم و تربیت؛ تاریخ و فلسفه آموزش و برورش سجن ز اللاژه گیریه\\n\\n۱\\n\\n \\n\\n۱\\n\\n۱\\n\\nدارا بودن گواهینامه بسانس؛ فوق یسالس با دکترا در یکی از رشته های تحصیلی گروه امور ثریت ۱\\n\\nبدئی\\n\\x0c \\n\\nگراهینامه لیسانس: فوق لساسی» دکنرا و با همتراز در یکی از رشته های تحصیلی تکئولوژی\\nآموزشی ورق(الکترویکک): نز یگد» دا ۳ تصو ره تما \\u200c تلریزبون: رتاظ نو برش) ویر\\nسازی؛ تصویر منح ر کل(آبمبشن) ؛تولید سیماء تلویزیون و هنرهای دبجیدال ۱\\n۹ کتایدار گراهینمه فوق دیپلم؛ لیساتس؛ فوق لبسانس؛ دکثرا و یا همتراز در وشته های تحصیلی کتابداری:\\n\\n۱ عثر م کتابداری ر اطلاع رسائی و برنامه ریزی کناداری و ادنیات فارسی ( صرفاً در مقطع لیسانس)\\n\\n۰ | کازشناس تهیه و دارا بزدن یکی اژ مدار کت تحصیلی زیر\\nتالیت کتابهای | دانشنامه دکتراه وق لیسانس ب لیسئس در یکی از رشته های گروه علوم تریینی و رشته های تحصیلی\\n\\n    \\n   \\n\\n \\n\\n   \\n\\n \\n\\n \\n\\n(آمورزش بزر گسالان ؛ معازف املافی؛ و با یکی از رشته های تخصصی حسب پست نورد تصدی) ر\\nحصول تجارب مربوط طق جاول ثرابط احراز\\n\\n۱\\n\\n1 ۱\\nوس سور پوت سس باس تسوت\\n\\n۱ |[ کارغلاس امزر. | حارا بودن:دانشنانه تاه فوق یانش با لانشن درایکی از رشته های, تخضیلی هذری. سب\\n\\n+\\n\\n \\n\\n۱\\n\\n \\n\\n۱ هسری تحصص ورد نباز و حصول تجارب مربوط طبق جدول شرایط احراز\\n| کازشناس اغرر دارا بودن دالشنامه دکترا؛ فونی لیسانس با پساتس در یکی ار رشته های غلوم تربیتی؛ روانشناسی:\\n\\n  \\n \\n\\nکر ی برنامه ۱ متاوره کله ۳ ها علوم احتماعی 1 بر تایه ربزی!ا؛ مدیربت و برنامه ریزی آموزشی: امور\\nفرهنگی مدیریت آموزشی وحصول تجازب مربوط طیق حول خزایط اجراز\\n\\n \\n\\n \\n\\n۱۳ گازشناس دایی\\u200cامه وگ زا وق ۱ یبای ۱ لساثیی در یکین از رشته های تحصیلی مدایریت و برنامه ریزی\\nاتتشاراب ۱ آموژشی:ه جاب و لسرء هدبریت رسانه ای) کارشناسی ارثاطات تصو بر یا تکنولززی آموزشی:\\nآموزشی ارتباطات اجتماعی, :روزنامه نگاری)؛ علوم کتابداری و اطلاع رسانی (اطلاع رسای)) و حصول\\n\\nتجارب مربوط طبن جدوی شرابط احراز ۱\\n\\n \\n\\n۳-رسته اداری و مالیی ۱\\nبت | رت سای | شرایط احراز ۱\\n۱ کار زین ۱ اي ۳۱۳0 دریکی از زشته\\u200c هنای\\n\\nمدیزیت زشاری: مدیریت مابع انسای :مد بربت سستمها ) مد بربت سالی , صدبریت اجرایبی ۱\\n\\nمدبربت صنعتی؛ | ی و ۳۳\\n\\nسبستم و بهرهاوری +مدیرنت آمورشی + صدیریت مالی» پیت ۰1۷119 مدیریت استراتژیک\\nامر ر م.لی و عالرنی: اعور دواای ۱معلرریدت ءور .ری ءعص. اد ؛علوم اقتصادی] آقتضاد اسلاعمی :\\nتوسعه اقتصادی ؛ برنامه ریزی \\u200f برناصه ر ری سیستم اقصادی : سوم اسلامی : اتتصاد ؛ اقتصاد و\\nمعارف اساژمی : حسابداری: حسابرسی ۰ حسایداری و امور مالی + معارف اسلامبی و مدیریت (مالی)\\n۲۳7 ۱ گواهینامه کارشناسم یا کارشناضی ارشد با دکترا و با هفتراز در یکی از رشته های تحصیلی مدیریث\\nدرلعی با جمام گرایقی ها : مدبریت با گزایقن, مدیریت,سبیبتگالوی بخشی:خمومی ماءیریت رغنازی »\\n۱ مدیریت منابع انسانی ها عدیرریت صیستمهای مه یریت اجرایی؛ مد بریت صتعتي» مدیریت و برنامه ریسزی\\n\\n| آموزشی «مدیریت ازر گانی: صدبربت بیسه » مدیریت سیستم وبهره وری ؛ مسدیریت آموزشی :\\n1۱\\n۱\\n\\n20\\n\\nمدیریت مالی ۰ مد بریت ۸ مدیریت استرانژیک : امور مالی و مالیاتی ؛ امرر دولشی »مدبریت\\n\\nی\\n\\n۹620۳060 ۱۷۸۱1 ۲\\n\\x0c \\n\\n \\n\\n۹620۳060 ۱۷۸۱1 ۴۲\\n\\nعامزر حر است\\n\\n| ماضین نویس\\n\\nْ آمرر دزی : مطالمات اجماعی : علوم اتماعی پاتمامی گرانش ها ؛ پژوهش عاوم اجعداعی ؛ جاه<4\\n\\n \\n\\n۱ مدیریت سیستم ها : مدادیریت آموزشی \\u200f سدیریت سالی امددایزیت 1۷19/۸ : مدیریت استرانژیکگک\\n\\nگواهینامه کارشناننی یا گارشدسی ارشد یاه کتراو با هدتراز در.یکن از زشته های تحمسیلی. سدیریت\\n\\nسرت ی ...۲\\nکر اهینامه دیپلم کامل متوسطه یا کاردانی یا کارشناسی و یا همشراز ترحیحاً در یکی از رشبتههاي ۱\\n\\n۱\\n\\nگواهینامه کار شناسی یا کارشناسی ارشد یا د کترا و با هستراز در یکی از رشته های تمصبیلی مسایریت\\n\\nامر دتری » مطالعات اجتماعی : علو م اجتماعی باتمامی گر ایش ها پژوهش علوم اجتماعی ؛ حامعه ۱\\n\\nشباسی : علوم ارتاطات اجتماعی \\u200f ارتباطات ء علوم تریتی گرایش های (رناسه ریزی آه وزش عد ۱\\nآمورش و بهساری متابع اسنابی ؟ روایشناسی شحصیت؛ روایشتاسی صعی و سازهنی + علوم شتاختی ؛\\n\\nروانشناسی ثربیتی : روانشتاسی عمومی\\n\\n     \\n\\nدولتی پا تمام گرایش ها ؛ مدیریت گرایش(مدیریت میاستگذاری بخش عمرمی : مدبریت رقثاری :\\nمدیریت متبع انسانی : مدیریت میستم ها ۱۲ مدیریت اجرایی : مدبریت ضنعتی ۰ مسدیریت و پرنامه\\nریزی آموزشی ؛مدیریت باز رگائی + مدبززیت یمه مد پریت سیستم و بهره وری ؛ مذیریت آموزشی :\\nمدبریت مالی :عبر بت 1۷113 ؛ مدبریت اسثر ان یک ؛ امور عالی و مالیاتی ؛ امور دوسی صدیریت\\n\\nشناسی : علوم آرتباطات اجتماعی \\u200f ار ساطات : روانشناسی صنعتی و سازمانی : رونشاسی شخصیت؛\\nروالشناسی ثربیش ۰ روالشناسی عمومی و یا در یکی از رشته های تخضیی تخصصی دستگاه حسب\\nمورد ب تائید کمیته اجرابی طرح طفه بندی مشاغل .\\n\\nگراهینامه کارشناسی با کارشداسی ارشد با د کترا و با حمغراز در یکی از رشته های تخصیلی صدیریت\\nدولتی با ثمام گرایش ها؛ مدیریت گرایش ( مدیریت میاستگداری بخش عسمومی؛ مدبریت رهناری؛\\nمدیریت منابع انساتی؛ مدربریت سیستم ها) ؛ مدیریت اجرایی؛ مدیریت صنعتی؛ مدیربت و برنامه ریزی\\nآموزشی؛ مدیریت بازر گانی؛ مدیریت یمه مدیریت سیسنم و بهره وری» مدیریت آموزشی؛ مد بریث\\nمالی» ماد بریت 1۷419 ء مدبریست استرانویکد: مطالعات احتمامی؛ غلوم اجتماعی با تام گرایش هب\\n\\nپژوهش علرم احتماعی سجامعه شناسی؛ علوم ار تبطات اجتماعی: ارنباطات» اریخ با بعامی گرایش ها\\n\\nتحصبلی مدبریت دولتی | تمام گرایش ها سدیریت سخعتی؛ مدپریث و برنامه رسزی آموزشی:\\nمدیریت بازر گانی؛ مدیریت سیستم و بهره وری؛ مدبریت سیسنم ها؛ مدبریت آموزشی: اقتصاد: علوم\\nاقتصادی؛ انتصاد اسلامی, علوم اسلاعی- اقتصاد؛ اقتصاد و معاری اسلامی: برتاهه ربزی آموزشی:\\nمطالعات اجتماعی غلو غ اجماعی با تدمی گرایش, ها؛ مدیریت مالی» حسابداری, خسابداری و امور\\nمه مرن وت ماخ موز دفاز\\n\\nسجرن: ماشین ویسانی که در وزه مقامات مورضوع ماده ۷۱ قانرن مدیرت خدمات کشوری فعالیت\\nمی تمایند باید دارای حداقل ۲ سال سابقه کار ماشین نویسی و دارای خداقل مدرک تحصیلی لیسانس\\n\\nباشند,\\n\\n   \\n\\nدرلنی با تمام گرایش ها مدبریت گرایشآمدیریت سیاستگل ری بخش عمومی ؛ مدیریت رفتاری ؛\\nمندیریت منایع انسانی ؛ مذیریت سیستم ها : مدیریت صالی)] : مدیریت اجرایی ؛ مدبریت صنعتی :\\n\\nمدیریت و برنامه ریزی آموزشی +مدیریت بازر گانی » مادیریت بیمه) عبر بت سیستم و بهره وزی :\\n\\x0c   \\n  \\n  \\n\\n \\n\\nبٍِِ\\n\\nااقتصاد ؛ عنو م انتصادی افتصد اسلامي : توسعه افتصادی \\u200f بر امه ریزی : برامه ریزی سیستم های\\nاقتضادی ۰ علوم اسلامی ۰ اقتضاد : اقتضاد و محارف اسلامی ۰ حلوم ترییتی (گرایش آموزش و بهسازی\\n۱ منیع اسانی؛ برنامه ریزی آمورشی ؛ بردعه ریزی و تحلیل مپستمها ,\\n\\n۷ | کازخناس برنافة: | گواهینافه کازشناسی با کارشناسی ارشند با دگترا و یا هنتراژ در یگی از زشته های تحصیلی مندیریث\\nو بو دجه دولتی با نعام گرایش ها : مدیریت گرابش(مدیریت سیاستگ1ذاری بخش عمرمی + مدبریت وفثاری ؛\\n\\n \\n \\n\\nمدیربت عتابم السانی ۰ عدربریث سیستم ها + مدبریت مالی مد بریت با زاربانی بین المللی) + صدیریت\\nاخرایی \\u200f مدیریت صنعتی : مدیریت و برناهه رسری آموزشی : مدیریت بار گانی : مدبریت بیسه؛\\nمدیریت میستم و بهسره وری ؛ صدیربت آموزشی؛ مسدبریت مالی «مدیریت ۷113 سدیرین\\nاستر ام یک «اقتصاد : علو م اقتصادی: اقتضاد اسلامی توسعه اقتصادی و بر نامه ربزی \\u200f نرنامه ریزی\\nتم های افتصادی : عاوم اسلاتی : اتصاد \\u200f اقتصاد و معارف اسلامی \\u200f معارف اسلامی و عدیریت ۱\\n\\nمد بر نت باراریابی 4 حساتب\\u200cازی :حساترسی ۳\\n\\n \\n\\n۸ بازُ رس \" گراهینامه کارشناسی یا کارشخذسی ارشد یا دکترا و یا همثراز در یکی از رشنه های تحصیلی مدیریت\\nدولتی با تعام گرایش ها : مدیریت گرایش(مدیریت سیاستگذداری بخش حمرمی : مدبریت رفشاری؛\\n\\n  \\n   \\n\\n| مدیریت منبع انسائی + مذیریت سیستم ها : مدیربت مالی؛ مندیریت بازازیبابی بین السل) ۰ مناپرین\\nاجرایی : مدیریت جنعتی ؛ مدبریت و برنامه ریزی آموزشی » صدیریت باز رگالی» مدیریت نیمه\\nمدبونت.مبستم و بهره وری : صدبریث:سیبستم ها : ملدیریت آموزشی ؛ قدیرزت مالی :مدیریت\\n: مدیریت استراتزبکد اقتصاد \\u200f علوم اقتصاهی اتتصاد اسلامی ۰ توسحه افتصادی و برناسه\\nریزی ؛ برنامه ریزی سیستم عای اقتصادی ؛ علوم اسلامی , اقتصاد \\u200f اقتصاد و معارف اسلاعمی : معارفب\\nاسلامی و مدبریت (نالی + مدبریث نظارت و بازرسی ؛ حقوق؛ حقرق پین املل ؛ حقوق عسومی ؛\\nحثوق خصوصی \\u200f حسابداری ؛حسابرسی : برنامه ریزی و تحلیل سیستمها + مدبریت سیستم و بهره\\n\\n۱ وری و مدیریت سیستم ها...\\n\\n \\n\\n\\u200e٩\\u200f سئول حدمات \\u200f گراهینامه کارشناسی ؛ و با همتراز دریکی از رشته های تحصیلی مدیریت دونتی ب تمام گرایش هاه\\n\\n\\u200fمالی مدبریت صنغتی؛ هد بریت و بزنامه ریبزی آموزضی مد مرت بازرگانی ؛ مدیربت یمه + قدیریث\\n\\n\\u200e \\n\\n\\u200fسستم و بهره وری \\u200f عدبریت آموزشی » مدبریت فالی» امو ر عالی و فالباتی : امور دولشی ؛ مدیر یت\\n\\n\\u200fامرر دفتری » امور پیسه: مدیریت صنمتی کاربردی ۰ حسابداری: حسابرسی : حسابداری و امور عالی با\\n\\n\\u200fگراهینامه دیبلم کامل متوسطه و یا همترار ۱\\nمدیر اداریو | دارا بودن «انشنابه لیسالن با فنوق لیسالس یا د کترا در یکی از رشته های گرود: او اداری و\\nمالی مدیریت ؛ حقوق؛ مهندسی صلایع؛ اقتضاد؛ اسور صالی و حسانیداری و حصرل تجارب مربوط طسژ,\\n\\n\\u200fبا\\n\\n\\u200f۱ /] ول خدنات: | -گواهیتانه فوق ویبلم یا دانشنامه لسائس در یکی از رشته\\u200cهای گروه: اغور ادازی و مبریث؛ اقتصناه\\nاداری امرر ملی و حسابداری و رشته تحصیلی کاردالی مدیریت امور دفتری و منشبگری و حصول تجارب\\n\\n\\u200f۱ مریرظطبق حبرل شراب انتراق 0\\n\\n\\u200f-گواهیتامه بایان تحصیلات کامل مترسطه در یکی از رشته های گروه؛ امور خدمات اداری» ادییاث و ۱\\n\\n\\u200e \\n\\n\\u200e۹620۳060 ۱۷۸۱1 ۲\\n\\x0c۹620۳060 ۱۷۸۱1 ۲\\n\\n۲ ۱ حسانداز\\n۱\\n۱\\n۱۳ ریس دفتر\\n(متعول مقامات)\\n\\n \\n\\n \\n\\n \\n\\n \\n\\nعلوم السانی؛ اسب ر مالی و حسابداری: بازرگالی» علوم تجریی؛ ریاضی فبزیک: کاربرد عمومی\\n\\n\" کامپپوتر و حصول تجارب مربوط طبق جدول شرایط احراز\\n\\nگواهیمه کارشناسی با کارشناسی ارشد با دکترا و با همتراز در یکی از رشته های تحصیلی مدیریت\\n\\nدولتی. با تمام گزایش ها .مدیریت گرایش امدیریت سیاستگذاری بخش غمرهی : مدیریت رفتازی؛\\nمدیریت منابع السانی ؛ مدیریث سیستم ها ؛ مدیریت مالی؛ مدیریت باژاریابی بین الملل) : مدیریت\\nاجرایی \\u200f حدیریت ضنعتی ۰ مدابریت و برناص ریز آفوزشی» مدیریت باژز گانی: سدبریت بیصهه\\nعدیریث سیستم و بهره وری :مدیریت آموزشی ۰ مدبریت ۰۷1134 مدبریت اسئراتبکک ؛ مدیریت\\nافزر دتری + امرر دولتی ؛ امرر مالی و مالباتی ؛اقتصاد , علوم اقتصادی؛ فتصاد اسلاهی : ترسعه\\n\\nانتلاسی.: مدیریت.حسختی کاربردی :مدیریت امور بادگی : ماپریت مالی» حسابااری :حدایردی )\\n\\nحسابدری و امور عالی با گوراهینامه دیبلم کامل »لوسطه و با همتراز .\\n\\nدارا بودن دانشدمه لیسانس باقوق لیسانس با دکترا در یکی از رشته های گروه: امور اذارق و\\n\\nمدیریث: علوم اجتماعی: روانشناسی و حصول تجارب مربوط لبق جدول شرایط احراز\\n\\n: ۱\\nافتصادی و برنامه ریزی + برنامه ربزی سسسثم های اقتصادی . علوم اسلامی ؛ انتصاد : افتصاد و معارف ۱\\n\\n  \\n\\n \\n\\n۴ . مسئول چاپ\\u200cو ۵\\n۱ انتشارات -دارا و دنل کو اهینامه قو نی دییلم با دانشنامه انسنانی نا غوقالیساتسی باه کترا فر بکنی از رشته عنای\\n\\nگروه : امور اداری و ماییریت چاپ و :غر و حول تجارب لازم طبق جدول شرابط احرال\\n۱ - دارا بودن گو اهینامه پابال تحصساات ذوره کامل متوسطله در بکی از رشته های: جاب» جاپ دستی:\\n۱ چاپ و نشره کاربرد عمومی کامپیوتر؛ رباضی فیزیک: علوم تجربی؛ ادیبات و علوم انسانی: باز رگانی\\nو حصول تجارب مروط طبق جدول شرایط احراز\\n۱ ۳ آمور اجتماعی\\n\\nشنرایط احراز\\n\\nگراهینامه کازشاسی.یا کارشناسی ارشد با دکترا و با همتراز دِ بکی از رشته های تحقسلی حق ف ۱ ۱\\n\\nحقوق قضابی «حقوق جزا و جرم شناسی ۰ حقوق کیغرن و جرعشناسی: حلرع جزا و جرم شتاصي ۰\\nعلوم فقضایی ؛ ففه و حقوق اسلامی : فقه و حقوق خصوصی: معارت اسلامی و حقوق؛ حفول\\n\\nخصوصی؛ حقوق خمومی : الهیات و ععارف اسلامی\\u200cافقه و مبائی حقوق اسلامی ) ؛ حفوق بین الملل :\\n\\nعل خ اسللامی (حقوق اسلامی ؛ کف و جر م شناس ؛ فقه و خناحث حفوق اسلامی ) حقوق اسلامی؛\\n۱ حقوق کنبولی» فقه و قوف جزا: فقه مقارن و حقوق عمومی اسلامی » فقه عقارن و هوق جبزای\\nاسللامی, فقه مقارن و حقوق حصوصی اسلامی ؛ فقه و حقوق جزای اصلامی ؛ حقوق بین الملل\\nعمومی \\u200f فته قضابی: قرآن و علوم(حقوقا : مدیریت اصلاح و کیفرهای قضایی(مدیریت جیزا و\\nکنترلهای قضایی ) : مدبریت داد گستری .\\n\\x0c۹620۳060 ۱۷۸۱1 ۲\\n\\n   \\n\\n۲ | کارختاض روط | گواهننمه: کارشناسی با کازشناسی ارخند یا دکتراه با همتراز در بکی از رشته های تحصیلی مبدیریت\\n\\nعمویتی امور فرهنگی : برنامه ریزی امور فرهنگی ۰ اسور فرهنگی : فرهنگك ر زبان مای باستاتی ایران » فرهنگد\\nو رتباطات ؛ زبان و ادیات فارسی؛ زبان و ادیات عرب و رشته هی تحصیلی علوم ار باطات\\nاحتماعی ؛ علوم ارتباطاث : فرمنگث و ارتباطات : تبلیغ و ارثباطات فرهنگی ؛ روابط عمومی ؛ روزنامه\\nنگاری : حقوق رتباطات ائبلیغ و ارنباطات , مدپریت رسایه ؛ معارف اسلامی و فرهنگ و ارتباطات:\\n\\n \\n  \\n \\n    \\n  \\n \\n    \\n  \\n \\n   \\n  \\n    \\n   \\n   \\n  \\n   \\n \\n   \\n\\n \\n\\nعلوم احتناتعی (ارتاطانت احجتماعی | عاوم ار ؟,اه ات اچتباعی (روزنامه تکناری 3 روار.ط عتومی) !\\n\\nعم بر با دولتی: معازف اسللامی (بلیغ و ارتباطات ۱\\n\\n \\n\\n \\n\\n۳ | کارشناس روانط | گواهينامه کارشناسی یا کازشناسی ارشد با دکترا و یا هنتزاز در یکی از رششته هی تحضیلی روابظ. ,\\nی ین السلل میاسی . علرم «یاسی ؛ «بپاماسی و سازعان های بین الملل : حشوق بین الملل » روابط ببن الملل ؛\\n۱ حثوق بین الملل عموعی ؛ تاربخ (مطالمات خلیج فارس ؛ نطالعات سیای مررکری و قفقاز ؛ تاریخ )\\n۹ تاریخ معاصر جپان اسلام «علو 0۹ فرهنگ و تسدن ملل اسلامی )۰ عدیریت دولتی ؛\\nی و علرم سیاسی» مطالعاتی منطقه ای : حقوق ارتباطات ؛ حشوق شر : فقه سیاسی ۱\\n۱ قه زاب انات تنس ج رم تنا ناگی ا او ارم تسین )ز\\n\\n3 عم ترا بزح مب کف همان ینمی تفری آیالسن ی باافتزا ور یکی ارت ته های تحصیلی:\\nو ۱۳0 رب مربوظ طق جدول شرایط احراز\\n\\nکار اجتماعی؛ علوم احتماعی( خدمات احتماعی)؛ مطالعات خائواده؛ امطالعات زنان در شاطع\\n\\n \\n\\n      \\n\\n \\n   \\n \\n\\nسای ارشد( گرایث های رد و خانواده: حقوف خزلی هو اسلا بو ناریح.زفن)؛ ۳1\\nتوط طی جدول سرابط احراژ,\\n\\nِ لس فون لیسانس و با دکترا در یکی از و شته های تحصیلی:\\n\\nبه میربوط طبع حددهول شرایط احراز\\n\\n۱ | حول تجارب\\n۵ کارشناسی آماز دارا بودن مدر کل 7\\nمر ضر عی ۱- گروه آنار و حصول.\\n۲ در یکی از زشته عا\\nمریزط طبغْ جدول شرایط احر\\n7 ]| بفاون ۱-دارا بودن مدرک تحضیلن لیسایش قوف میسن ویا د گر در یکن از رشته های تخضضی\\n(ممامارع) مرشضرعی عربیها ه. + وه و حم.رل *جاره ی جلفزل شرانط احراز.\\n۱ و تیان\\nو لیسانس جهت تصدی پست سازدانی مشاور روسای سار با! وایسته.\\n۳- دارا بودن حداقل ۸ ۱۲ و ۱۶ سال تجربه به ترئیب با دارا بو ن مد رکه تحصیلی دکتراه قوق\\n\\n۱ لیسانتس و بان جهت دی پبت:تتازتایی تفا مفادات تتدرم مره ۲ماده ۱ قاون نظام\\nظق\\n\\n   \\n \\n  \\n \\n\\n, ۳ ی 4 ۱\\nموتبوعی عزبوط حسب تخصعی سوزه نیاز و حصول تجاراب ۱\\n\\n۱\\n\\n \\n\\n \\n\\n  \\n\\n۷ کازخناس | گزاهينامه کارشناسی یا کارشناسی ارشد با دکتراو باهم\\u200cتراز در یکی از رشته های تحقیلی تخعنضی\\n۱ نم نامه زر بژی دست\\u200cگاه:اجرانی نا تائد کسته جرابی طرح طنقه ندی مشاغل دستگاه.\\n\\n \\n\\x0cلیاوا اطلاها.. - << << < .]\\nریت | وشته\\u200cشفلی ۱ شرانط احواز ۱\\n\\n۱ ابر آتور | گواهینامه کارداتی : کارشناسی با هست از در یکی از رشته به ای تتحعبیلی مهتلیسبی کامپوتر گیزایگن. \\u200f\\n\\n \\n\\n \\n\\n \\n \\n  \\n   \\n \\n \\n   \\n   \\n  \\n   \\n \\n   \\n  \\n  \\n \\n   \\n\\n \\n\\n(سخت افزار و نرم انزار ) اعلوم کامبیوتی ؛ کامبی\\u200cتر -سخت فزار ؛ کاربرد کامپوتر؛ کامییوتر -ترم ۱\\nافزار : الفورماتیکک : کاربرد کامپیوتر و آنالیز سیستم» کاردانی سخت افزار کامپوتر: نرم افزار ۱\\nکامپیوتر ؛ مهندسی نناوری اطلاغات ؛ تکتولوزی ارتباطات و فناوری اطلاعات (11) ؛ تعمیرات\\nسببخت افزار کامپیوتر ؛ ارتباطات و فنآوری اطلاغات ( 1 -)1) در م افنزار سپستم ؛ مهندسی تکلولوژی ص\\n\\nر ۱ ۳۷ فنارری اطلاعات. فناوری اطلاعات و ارباطات .\\n\\nِ\\n\\n   \\n    \\n\\n \\n      \\n \\n  \\n   \\n\\nات گرایش (نرم فا :معماری حیسم های پوت ۰ سستمهای نرم افزاری ؛ هوش مصنوعی\\nو رباتیکك : سیستم های نرم افزاری ٍ الگورینم و محاسبات الگوریشم و محاسبات ؛ نظریه ای\\nو الگور یتم ؛ خوش مصنوعی)؛ علوم کامیبوثو: مهندسی نرم افنزار؛ کنامپیو تر -نرم قنزار؛\\nناوری اعللاعات گرایشهای (طزا حی و تولید ترم افزار : معماری سازمانی : هدیریث مس\\n\\nنی ؛ شبکه های کامپیوتری ؛ سیسلم های چند رسابه ای ؛ مخابرات اس )؛ معماری\\nنایم گرایش (برذمه ریژی و تحلیل سیستم ها : مدیربت میستم و بهره وری :\\nمهندسی سیستم: اتوقامیون ]+ کاربرد کمپپوتر و آنالیز سیستم: انفررمانیک : آمار و کامپیوثر :\\n\\n۹\\n\\nریاهی \\u200c علوم کاعپیر بر *\\n\\n \\n\\n   \\n  \\n  \\n \\n\\n#« کاوشناس برنامه \\u200f گواهینامه کارشناسی با کازغناسی ارش. با دکتراو با همتر از در یکی آژرشته های تحصیلی مهندسی\\nفزاری؛ معماری سیسنم های کامییوتر: هوش مصلوعی و\\nرباتمگهه هرش «صنوحی: نظربه دی با راوریتب میستم های ابرم اه زاری و الگ وریتم و\\n\\nمحاسات. الگوریتم و محاسات): مهند\\n\\nت» الگور نتم بات): مهندسی ی اطلاعاب +نرم آفزار کنامپیو تره انفورماتیکد؛\\n۱ کاربرد کاپیوتر و آنالیز سیستم: علوم کامپیو ترا ری کامپیرتر-نرم افزار: مهندسی سرم\\n۱ افزار + ریاضي و علوم کاهپیوتر و\\n۹ ۱\\n۱ کارشناس شیکه ۱ گواهینانه کارشناسی با کارشناسی ارشد با د کترا و ب همترز در یکی از را تحصیلی مهندسی\\n۱ کامپیرتر گرایش ابرم افزار: سخت اقزار\\u200cمعمازی سیستم های کافپیوتره سیستم هب نم افزاری هون\\nمصتوعی, و ۷« عصتوسی؛ نظریه های محاسیات و الگوزیتم: سبستم میم اهراری و\\nالگوریتم محاسبات. الگوریتم محاسبات) تکنولوژی ارتباطات و فن آوری اطلاعات مدیریت\\n۱ خدمات و توسعه فن آوری اطلاعات؛ علوه کامییوترا کاربرد کامپیوتر و آنالیز سپستم؛ انفررهاتیکكا\\nکامپیو ثر سنرم افزان: کامیم تر -سخت اف آن مهندسی فن آوری اطلاعات گرایش (شبکه های\\n\\nکاپیوتری: میج های چنا. رسائه ای؛علراحی و توسعه ب افز ار؛ مخایراات امین مدپریت می\\u200cستم های\\n\\nنواپس سیبی کامیو ثر گوابش ( نوم افزاره حیستم\\n\\n \\n   \\n \\n\\nاطلاعاتی؛ انیت اطلاخات)؛ آمار و کامپیربرا زناضی و علوم کاعپیوتر\\n\\n۹620۳060 ۱۷۸۱1 ۲\\n\\x0c \\n\\n۵ کار شناض آهو ر کواهیامه کار شناسستی با کار شنانستی ارشا\\u200cناد کم ایاهمتر از ذربکی ازرشته های تحصیلی مهندسی\\n\\nمت افز ار کامپیوتز گرایشی(سنت افزار؛ محساری کاهپوتر)؛ کاهپیوتر: سخت افرآن مهتادسي تکوا وژی سیستم\\n\\n \\n\\n \\n\\n \\n\\nرایائه های سح افزار: مهندسی تکنولوژی میکرر ماشین»علوء کامپپونر؛نکنولوژی ارتباطات رفن آوری\\n5 ه-وسته بهداشتی و دومانی .\\nدیف ۱ رشته شغلي شرایط احراز ۱\\n| وتان - اوق مدرک تحمیی اسان با فوق لیسالس یا دکترا بر نگ از واه مه تسایر آمزوشن .۱\\n\\n۱\\n۱\\nبهداشت. عاتراده | بهداشت: بهداشت عضومی و حصول.تجارب لازم طبق جا:ول شرایط احراز\\n۱ - دارا بودن مدر کك تحصیلی فوق لساس در رشته مدیریت خدمات بهداشتی و درماتی مشضروط به\\nداشتن مد رکث لیسانس بهداشت عمومی و با یکی از گرایش های آن و حصو تجارب لازم طبق\\nحداول شرانط احراز.\\n-«ازاء-وفن مدرگ تحعصیلی د کسرادر یکی از رنه های پزشکی عمومی با داووسازی و با\\nدامپ رشکی با طی دوره 91۲11۰۲1 با پرشکی خموعی با طی ذوره تخضسصی و با پزشگی خصومی و\\nحصوی تخارب لازم طبق جدول ترایط احراز.\\n- دارا بودن مدرک تحصیلی وق لیسالس در رشته پرستاری (بهداشت کودک و خالواده؛ بهداشت ۱\\nجامعه) و حصول تجارب لازم طن, جدول شر ایط احراز, ۱\\n\\nدازرایو\\u200cدن مد کف تحصیلی فوق سای در رشته علوم بهاءاشتی در تغانبه مشروط ه دار بودن ۱\\n\\nروائی روان شناسی بالیتی: رواد شناسی تر بیتی ۰ مناوره و راهنمایی! راهنمای مشاوو) ۰ کرد کان استشایی\\n\\n(عقب مانده دذعتی): سنجش در اندازه گیری و روان سنجی:ه علرم تربیتی(آموزش و یم برورشی کرو دکان\\n\\nبا ات نیت\\n۲ ۱ کار شناس امزر دازا بودن ند رک ٌ تحضیلی لیتنائه ی قوق لیسانس یا د.کتر در کی اوررفته فان روانتشتاضی عمومیب,\\nعقب ماند» دهنی): علوه اجتماعیی( خد مات احتماعی) و حصول تجارب لازم طبق جدول شرایط\\n\\n \\n\\nاحرال\\n۳ رای ییایی. | :هرا پره مب کد میتی یک با تیق لا کقرا و بش تهییتاین مه مین ری عض وان گج ابید |\\n۴ کارشناس | دارا بردن مدرک 2 ته شنوابی سنجی؛ شنوایی شناسي و حضول\\n\\nشذزاین تج | بای رم مق ول حرط ار\\n۵ ۱ کارشناس امور \\u200f دارابودن مدرک تحصیلی لبسانس یبا فوق لیسانس یا دشرا دو یکی از رشته های فیزیوترایی؛\\nتوزانیخینی کاردرمانی( جسمائی و روانی)» گفتار درمانی؛ کارشناس اعضای نستوعی ر وسایل کمکی؛ مدیریت\\nتوالبحشی» حسب لوع فعالیت و حصول تحاوب لازم طبق جدول شرایط احراز\\n\\n0\\nند اتصماي : ح\\n\\n۷ مرلو ماک\\n\\n۹620۳060 ۱۷۸۱1 ۲\\n\\n \\n\\x0c \\n\\n \\n\\nو٩\\u200f ۰ ۱\\nدیف ره شعلی ۱ شرایط احراز ۳\\n۱ .۱ نگهیان .| شرایط احراز؛ گوهینانهدیبلم کامل متوسطه و یا همتراژ: ۱\\n\\nدارا نوذن خداقل گواهیتانه اسب کانل +تو .هد تنچییما در زشته های غی و ؟ارودانی و حصول\\nتحارب مربوط طبق جدول شرابط احرار.\\n\\n- ذارا بودن توانسندی های لازم جسمی و روانی و سلامت کامل\\n\\n- توانابی هددابت و کنترل انواع وسابط نقلیه مرتوری,\\n\\n- آشنایی با سیستم های حفاظتی و اسیتی.\\n\\n- آشنایی با امداذ و نجث و کت های ارلیه.\\n\\n   \\n\\n۱ - طی دوره های آموزشی نطامی پا مغدمانی بسیج و یا دارا بودن کارت پایان خدمت وظبقه عمومی.\\n۱ - تامل\\n| واتیه وساجظ تایه دارا بودد گواهینامه پایان نخصیلات دوره ابتدایی و دوره اول متوسطه وگواهيامه رنندگی پابه یک\\n\\nتدرو منیکین\\n\\n \\n\\n \\n\\n \\n\\n۳ رائنده وسایظ | دارا بو گواهینامه بایان تحصیلات دوره انندایی و حصرل تجارب مربوم طبق جدول شرابط\\nنقلیه نشدرو | احراژ و داشثن گواهینامه رالئدگی پابه دو.\\nسک - دارا بودن گواعینامه بایان تحصیلات دوره ابندایی و گواهینامه بایه یک\\n-دارا بود گواهینامه بایان دوره اول عتوسطه. (دارند گان گراهیدمه های پایه ۱و ۲رانندگی)\\n۵ | یشختیت ] -هارابوون گزاهینامه بایان حسیلات جوزه یدای و پیات تتحصتیلات ازل نله أ\\n5 1 ۷ دارا بردن حداقل گواهینامه دیپلم کاتل متوسظه و حصول تحارب مربوط طبق جدول شرابط حراز ۱\\n\\u200e٩\\u200f | بنة وجوفد یکی از شرایط زیر: ِ 5\\n\\n-وارا بوون گ اهتلمة بایان تحصلات دوره انتدایی و حضول تجارب مربوط طبق جدول شرایط احراژ\\n- وارا زود کراه امه بایان ده ار اوه اول معیمطه و حصوان تچازب مربوعط ظیش جد و شرایط احراد\\n۷-رسته کشاورزی و محبط زبست ۱\\n۱ کار شناس امور دارا بودن دانشنامه لیسالس. فوق لیسانس با دکترا در رشته تحصیلی مطلوب باشانی و با بکی از رشته\\nباغبانی های تحضیلی عرتبط ژراعث و اصاراح تبانات حنگلداری: مهند سی لضء: صبن مهنا.سی تو لسدات\\n\\nگیامی . آبیاری و حسول تجارب مربوظ طبق جدول شرایط احراز\\n\\n۸- رسته فتی و بهندسی ۱\\n\\u200e٩\\u200f ۱ کازقتاتی دارا بزدن دانشنامه لیسانس» فوّق آیسانس با دکثرا ذر رشته تحصیلی؛رشته ها فنی مس تبظ (دکانیکك:\\n\\n \\n\\n   \\n  \\n \\n\\nاحراژ\\n\\n \\n\\n۹620۳060 ۱۷۸۱1 ۲\\n\\n \\n\\n \\n\\x0cخرم شماره ۱\\n\\n<« پسمه تعالی»\\nپ درخواست فرم موافقت با ادمه تحصیل فرهنگیان 4\\n۰ ای یی وی فر زند رت یک ملی ام شمار ۵ پرسئلی منبیمیمیببیه هن\\n\\nع کامل از بند بک بخشنامه شماره ۱۷۰۰۶۱ مورخ \\u200e٩۳/۱۲/۲۴\\u200f سازمان مدیربت و برئامد ریزی کشور عبنی بر\\nتکه آثار استخنابی مدارک تحصیلی مأخوذه تسبث به مدارک تحصیی ارائه شده در بدو استخدام کارمندان رسمی\\nو پیمانی نها برای یک مقطع تحصیلی بالاتر و سایر شرایط مندرج در آن و همچنین رحایت قانون ممنوحیت ادامه\\nِ\\n\\nتحصیل کارگزاران کشوردر ساعات اداری موب سال ۷۲ و ماده ۶۱ قانون مدیریت خدماث کشوری» درخواست\\nصدور فرم مذکور را\\n\\n   \\n \\n \\n\\n\\u200c نام و نام خانوادگی متقاضی\\nكِ محل امضاه\\n\\nّ\\n*ِ\\n\\n \\n\\n۹620۳060 ۱۷۸۱1 ۲\\n\\x0c \\n\\n \\n\\n۹620۳060 ۱۷۸۱1 ۲\\n\\nشباره :\\nفرم شماره ۲ تاریخ :\\n\\n() « سمه تعالی»\\n\\nجمهوری اسلامي ایران\\nوزارت آموزش و پرورش\\n\\n« فرم موافقت با اذامه تحصیل فرهنگیان »\\n\\nطبق ماده ۷۰ فانون مد رت حدمات کشوری و بخشنامه شماره ۰ ۱۷۰ مرح ۴ سازمان مدیرت و\\nنامه ریزی کفور اقرانی می اند از مزاینی ملدرگک تعصیلی جدیذ استفاده نمایند. گه جلاوه بررها مت\\nشرایط هقررات مذ کور ؛ پراساس طرح طبقه بدی مشاغل در شرابط احراز رشته شغلی پست موردتصدی :\\n\\nمدرک و رشته تحصیلی مأخوده بیش یتی شده باشد..\\n\\nبراین اساس ادامه تحصیل آقای/خانم قرژند :\\nبه شماره پرسئلی : کد ملی : باتر چه به مدرک تحصیلی فعلی ر\\nاشتغال در پست سازمانی شماره : تحت عنوان :\\n\\nبا رعایت قانون ممنوعیت ادامه تحصیل کار گزاران کشور در ساعات اداری مصوت ۷۲/۱۰/۱۴ مجلض\\nشورای اسلامی و ماده ۱ قانو ن مدبربت خدمات کشوری در خارح از ساعات اداری روزهای کاری هفته\\nبلامانع می باشد.\\n\\nشتا اغال مدر کف تحضیلی انشان بسن از فزافت از تحقیل در ورت اتغال یا تعیر سمت :ور پست\\nسازمانی مرتبط » مندرج در جدول شرایط احراز طرح طبقه بندی مشاغل مربوط امکان پذیر است . در\\nصورت ادامه تحصیل خارج از مقر رات باد شده با ارائه و نائید فرم توسط محل خدعت برخلاف ضو اط\\nموردنظرتخلف موب گردیده ضمن بر خورد با افراد خاطی ۰ مدرک تحضیلی ارائه شده قابل اعمال\\n\\nنخو امد بو د ,\\nاداره کل آمور اداری و تشکبلات /رنئیس اموراداری- کارشناسی امور اداری مهر ر امضاء بالاترین مقام با مسئول\\nمحل ۰ وت ۹ ۱ بحل ۰ ء\\n\\nسح\\n\\nروئوشت : پرزنده پرسنلی دیثفم سم\\n2\\nنعیادصسیانی\\nون .ی ۹6\\nسیورس بل\\n\\n-ٍِ\\n\\nوا\\n\\x0cگروه های مربوط به رشته های نحصیلی طرح طبقه بندی مشاغل\\n\\n77 7\\n\\nگروه امور تربیت بدفی: مدیریت و برنانه ریزی تربیت\\u200cبدنی؛ رد و تکامل و یاد گیری حرکتی؛ ترییت بدنی» تریت بدنی ۱\\nو علوم ورزشی؛ ترییت بادنی جانبازان و علولین» فیزیولوژی ورزشی و تریبت معلم تربیت بانی\\n\\nگروه علوم ترییتی: مدیریت و پرامه ریزی آموزشی: مدیریت آموزشی,: برنامه ریزی آموزشی: تکولوژی آموزشی:\\nتجقرقادت آموزشی: بررامه زیری ری و عناوم تربیتی\\n\\nگروه امور روانشناسی و مشاورد؛ رواندتاسی عدیمی؛ روانشناسی تریتی؛ رواشناسی (اصنلاح و تریت!؛ کارشناسی امور\\nتربیتی و عشاوره مشاوره: مشاوره راهشمایی: راهنمایی و مناور» (فعالیت های پرورشی» دخجش و اند.ازه گیری ورروان دسجی\\nگروه رواذشنا سی: روااشتا سی: روانشنا بی تریتی؛ «شاوره و راهنمایی؛ مشاوره؛ رهشدی مشاوره (فعالیت هی پرور شی-\\nمشارره)؛ روانشناسی عدوعی روانشناسی (ا صلاح و تربیبت»ه کار زاس اموو تریقی.و م خاورهه ستجش اندازه گیر. وترواد\\n\\nگروه امور فرهنگی: مدیریت امزر فرهنگی. برنامه ریزی امورفرهنگی» امور فرهنگی: فرهنگك و زبان های باستالی ایران:\\nفرهنگف:ر ارجاطات: زبان و ادیاات فارسی و زبان ادیاث خرب\\n\\nگروه علوم اجتماعی؛ جمیت شناسی؛ مردم شناسی: پژوهشگری علوم اجتماعی ارتباعلات عاوم اجت\\u200cاعی؛ برناعه روزی\\nعاره اجدهاعی؛ اون و رفام عاوم اجتماع\\u200cی. خدمادت اجتماعی؛ عاوم ار تباطات اجتماعیی (روابط عمومی!: جامعه شناسی؛ برئامه\\nردزی رفاه اجتداعی. ارءاظایت اجت-اعی (:جقیق در وتباطادت اجتماعی)\\n\\nگروه آماو: آمان آدار اقتصاذی و اجماعی» آغار کاربردی» آمار نبروی انسانی» آماربیمه» آعاو ریاضی\\n\\nگروه معارف | سلامی؛ الهیات و معارفاسلامی. ععارف اسلامی, فقّه و ماد اهب ا-لاعی» علوم فرآلی و حلدیرث» ارهنگ و\\nمعارق اسلامی: علوم و حدیث: معارف اسلامی و ثبلیغ علوم اسلامی: فلسفه و حکمت اسلامی؛ علوم قرآنی. معارف اسلامی و\\n\\nفد بر یت این شتا سی \\u200f معارف اسلامی ۶ علوم سیاسی؛ معارف اسلامی ر اقءصادا اند ؛ شه سیاسی در اسلام؛ مدر سی معارف\\n\\n۱ 2 ی لهات و معاب.ف اسلامی: بر و هش عرفان اسللاهی ۱ ام یداه\\n\\n۹620۳060 ۱۷۸۱1 ۲\\n\\n \\n\\x0cگر وه اقدصاد: علو م اقتصادی اقتصاد؛ اقتصاد اسلامی. اقتصاد ظری: اقاضاد بازررگاتی؛ انصاد صتعتی» اقتصاد حمل و نقل؛\\n\\n  \\n\\nاقة صاد پرل و بانکداری: اقد صاد کشاورزیی اقصاد بین الملن؛ اقت صاد سجی: اقتصاد پولی؛ افعساد نجش عمومی: تو سبعه\\nاقتصادی و برامه ریزی؛ برنامه ریزی سیستم های اقتصادی, انتصاد شهری و مسطقه ی؛ اقتصاد سایع؛ سیر اندبشه های اقصادی.\\nنظام های اقتصادی, اقتصاد اترژی؛ سیسم های افتضاد اجنماعی؛ اتصاد ریاضی» معارف اسلامی؛ اقتصاد و اقتصاد کشورزی.\\n\\nتروه خدمات ایمنی و آتش نشانی: ایمنی و آتش شانی تجسس و جات آتش شانی و ایمنی و بهداشت, آتش نشانی؛\\n\\nبجات از مر گف» ایداد و سوانح.\\n\\n۱ گروه حقوق: حقوق, حفرق جزاو جرم شناسی؛ حقوق کیفری و جرم تناسی: علوم قضایی: علوم جزا و جرم شاسی: نقه و .\\nحقوق اسلامی؛ فقه و حقوق حصوصی معارف اسلامی و حفوق, حقوق خحصر صی. حقوق حمومی؛ حقوق کنسولی؛ الهیات و\\nمعارت اساامی (فقه و میای حقوق اسلامی)؛ حقوق بین الملل؛ علوم اسلامي (حقوق اسلامی: کیفر ر جرم شناسی.» فقه و\\nبباحت حقوق اسلامی): حقوق اسلامی,\\nگروه امور مالی : مدیریت مالی - حساید ری- حسابرسی- حسابداری بٍ آمور مالی- تدار کات همگانی - کاربرد کامپیوتر دز\\nمور هالی- آمور هالی- معارف اسلامی و مدیریت (مالی):\\nگروه امور خد مات اداری: امرر اداری- امور اداری و کارگریتی- کمک فتخصص خد مات اداری- امور اداری و\\nپر سنلی- خدمات اداری- آیین نگارش امه های اداری- امور دفتری و ماشین ویسی- امور دیرخانه و بایگانی- کاربرد رایانه\\nدر امور اداری.\\nگروه علوم تربیتی: برنامه ریری آموزشی- برنامهریزی درسی- تحقیقات آموزشضی- تکنولوژی آموزشی- مدیریت\\nآموزشی- مدیریت و برتامه ریزی آمرزشی\\n\\nگروه امور اذاری و مد برست: مدبریت دولتی -مددر بت اجرایی-مدیریت صنعتی -مدبریت و برامه ریزی آموزشی\\n\\nمد بر بت- مادتر بت یمه - هد بر ینت باز رگانی-مدیریت اقتضادی- مدبریت پرسئلی - مدبریت سیستم و بهره وری - مددبریت\\n\\n \\n\\n \\n\\n۹620۳060 ۱۷۸۱1 ۲\\n\\x0cآموزشی- مدیریت اذازی- مه بریت خدمات اداری- علوم اداری- امور اداری و مدبریت نم وت رفاه- خدمات بازرگانی\\nو اداری- باز رگالی - مدیریت سیستمها- معارف اسلامی و مدیریت با گرایشهای (مالی: بازرگانی؛ صنعنی).\\nگروه مهندسی صنایی: برنامه ریزی و تحلیل سیستمها- مدیریب سیستم و بهره وری- مددیریت سیستمها,\\nکروه اقتصاد: علوم اقتصادی: اقتصاد؛ افتصاد اسلامی؛ اقتصاد نظری: اقتصاد بازر گانی؛ اقتصاد صنعتی, اقتصاد حمل و نقل:\\nاقتصاد پور و بانکداری افتصاد کشاورزی: اقتصاد بین الملل؛ اقتصاد سنجی: اقتصد سنجش عمومی؛ تو سعه اقتصادی و برنامه\\nریزی؛ برامه ریزی سبستمهای اقتصادی: اقتصاد شهری و متطقه ای اقتصاد منابع؛ سیر انديشه های اقتصادی نظام های\\n\\nاقتصادی, اقتصاد انرژی؛ سسبتمسهای اقتصاد اجتماعی اقتصاد ریاضی, نعارف اسللامی: اتتصاد و قتصاد کشاورزی\\n\\nگروه تاریخ: تاریخ- تاریخ ایران باستان- تاریخ ايران اسالامی- تاریخ اسللام - تاریخ عمومی جهان\\n\\n \\n\\n \\n\\n۹620۳060 ۱۷۸۱1 ۲\\n\\x0cشراید احراز طرح طبقه بندی مشاغل آمرزشی\\n\\n \\n\\n \\n\\nر دیف تران شغل ۱ ۱۳ شرابط احر از ۱\\n| | آموزگاری | گرامی نامه لرسائمن: فوق لیسانس»دگتری,ویاهم ترازهر یکی ازرشتم.هایتدصیلن آمرزش\\n\\n۱ انتدایی و رواد شناسی (همه گوا یشان ها): روا شناسی شخصیت. عوم تربیتی؛ مشاوره و\\n\\n۱\\n\\n \\n\\n    \\n \\n\\n  \\n\\nراهتمایی؛ روان شناسی تربیتی: روان شاسی بالینی» سجش و اندازه گیری (روان ستجی) سنجش\\nاندازه گیری؛ دبیر امور تربيتي؛ روان شناسی عمومی؛ امور فرهنگی: مشاوره. فلسفه تعلیم و تریت:\\nبرنامه ریزی درسی: تکتولوژی آموزشی و مطالعات خانواده.\\n\\nگزاهی نامه لیسانس؛ فوق لیمانس؛ دکتری و با هم تراز در یکی از رشته های تحصیلی گزوه\\u200cهای\\nدرسی چهارده گانه جدول زیر:\\n\\n \\n\\n \\n\\n(دبیر دوره\\n\\nاو \\u200e٩\\u200f سه ساله\\n۱ علرم احتماعی (کلیه گرایش ها), جمحجبت شناصی» مرفم شناسی» بو هشی؛ غلو م احتماخی؛\\nدوم نتوسظ) تاریخ ( کلیه گرابش ها): علوم سیاسی: حامعه شناسبی(کلیه گرایش ها جامعه شناسی\\nاتقللاف اسلامی تارپخ انقلاب اسلامی ء جغر افیا\\nتریت ندنی و عارم ورزی ( کلیه گرایش 4 تربیت بهدنی و عاوم وززشی- فیر یولوزی\\n\\nورزش+تریت بدلی و علوء ورزضی: پومکالیکه ورزسی؛ ترییت بدنی و علوم ورزشی-\\n\\nرفدار حر کی ثریست.بدتی و علوم وززشی -مدیربت ورژشی» ترپت بدتی و علرم ررزشی\\n\\nبرنامه ریزی تربیت بدلی؛ ثربیت بدلی و حلوم ورزشسی- عدیریت ورزش حمگانی: تریت\\nبدنی و علوم ورز شی- عدبریت زرزش قهردانی: ترپت پدلی و علوم ورز شی- علم نمرسی۱\\nبریب بدنی و علوم وررشی؛ مرس بدنی جاتبازان و معلولین؛ عثوم وررشسی؛ تریت بدی؛\\n\\nمعلم تریت بدنی و علوم وررشی؛ تربیت بدی و علوم وررشی- ح رکاب اصلاحی و آحیب\\nهلاس\\n\\nجغرابای طبیعی و سائی (کلیه گرابش ها جغرافبای نظامی؛ جغرافبای سیاسی: جغرافبای\\nطيعي (کله گرایش ها)؛ ژئوفیزیکک (کلبه گرایش ها), زمین شناسی غلوم زمین\\nمهندسی شیمی- (کلیه گرایش هاا:شیمی؛ مهندسی شیمی- مخاژن هیدر وکربوری:\\n\\nروان شسناسی (همه گرایش هاا:روان شسناسی عمومی» علوم ترییشی( کلبه گر بش اه\\nمشاررهو زاهتنایی؛ مور فرهنگی ( که گرایش ها؛ دشاوززه روان غاسی بالیلی: رزان\\n\\nشنا سی شخ صبت» منجلی و ندازه گیری (روان منجی)؛ سنجش-اندازه گیری و روا\\n\\nشناسی, نربیتی\\n\\nآمار ریاخی؛ ریاخسی: ریاسی کاربردی» آمرزش ریافسی: علوم کامیوترن آمار: آمار | .\\n\\n3۳3\" اقتصادی اجتماغی: مهندسی کامیوتر- معماری سیسنم های کامپیرتری؛ آمار پیمه؛ مهندسی\\n۱ 1 کامپیوثر-نرم افزاره مهندسی کامپیوتر<هوش مصسنوعی و رباتیکده معماری کامپیوتر:\\n\\n3 2 مهندسی کامییوتر (کلیه گرایش ها)\\n\\n \\n\\n۹620۳060 ۱۷۸۱1 ۲\\n\\x0cاص\\nژبان و ادیات | زبان ر ادبیات فارسی- آموزش زان و ادییاث فارحی\\nفارسی\\n\\nعلوم ژستی و | ژیست شناسی(کلیه گرایش ها), علوم زیستی بیولوژیک علرم دریایی قبانوسی؛ یو شیمی:\\nزیست شاسی- گیاه شتاسی؛ زبست شناسی- فیزیولوژی جنوری؛ زیست شناسی-\\nمیکررییولوژی؛ زیست شناسی- سلولی و تکویتی گياهي؛ زیست شناصی- فیریولوژی\\nگیاهی؛ زبست شناسی - سیسنمانیکک گیده؛ زیست شناسی-سلولی مولکولی؛ ژزست\\nشناصی- ژتسکه مولکولی؛ علوم حائوری گرایش تگویلی؛ علوم جلوری گرایش\\nفیزیولوژی جالوری: آموزش علوم تجربی\\n\\nعلوم تجربی؛ رشته های گروه شبمی؛ فیزیکد و عموم زرستی و بهداشتی\\n\\nفیزک: مهندسی بر قی- قدرت: مهندسبی مکانیکك- ساخت و ولبد؛ مهندسم, مکانیک؛\\n\\nمهند سی برق- مخابرات» عهند سی بر ق- کترل» مهند سی بر ی الکت, و نکد: بهند سی مواده\\nمبز امک مهند سی مراد حوردگی و حقاظت مواده مهناء سی مواد- حو شکاوع ,؛ بهند سی\\nمواد- شخ دادا: فلژات. مهلدسی مراد- استخراج فلات؛ مهندسی مواد- شن\\u200cسایی و\\n\\nداد ۰ 1 او\\n\\n۱ زا رشته\\u200cهای تحصبلی گروه فبزبکث #حرفه و فن +عییری حرفه و فن\\n\\n۱ : زبات و اهعسات حرب.: اهات و ععارف سالامی؛ علوم اسللامی\\nزبال و ادیات خرب: معارزت اسلمی و تبلیغ: فقه و حقوق اسلامی: فلسنه و حکمت اسلامي:\\nالهیات و معارف اسلامی(کلبه گرایش ها!ا غلوم اسللامی (کلیه گرایش ها)؛ علر قر آی؛\\nفلسعه: خلام: عنوم اسلاهی رصوی: مدرصی معارف اسلامی؛ مدرسی الهیات ر معارف\\nاسلاعی؛ رشته های: تحصیلی امور ترییتی\\n\\n \\n\\n۱\\n\\n| شاوی داخت. | گوای ناه انس وق لداکت)عکری و با هم تراز در یگی از رشته:های تحضنیلی گروه\\u200cروان\\nآموژشی | شناسی و علوم تریتی\\n\\nو ۱ گواهی نامه لیسانس؛فوق لیسانس؛ دکتری و با هم ثراز در یکی از رشت های تحصیلی. گروه روان\\n۱ مرلیی امور هی نامه تیسامسن خوق لیسابجی ی و با هم نرار در یجی ار ر ی تحصب وه رو\\n\\n \\n\\n  \\n  \\n\\nتربیتی مدارس شناسی و علوم ثربیتی و رشته های الهیاث و معارف اسلامی (کلیه گرایش ها) و علوم قرانی\\n\\n1 . هنر اموزی . گواهی نامه فوق دیپلم لیسانس: فوق لیسانس؛ دکتری و ب هم تراز در بکی از رشته های تحضیلی\\n\\nبه شرح جدول زیر\\n«شته ها و گرایش های تحصیلی مود قبول حمت تصدی عنوان هنر آموزی رای رشته\\n\\nهای هنرستانی ۱ های مختلف فنی و حرفه ای و کاردانش\\n۲ ۷۷۱۱۱ 9620۳60\\n\\n  \\n \\n\\n   \\n \\n\\nالکتروتکنیک. | دبیر فنی برق؛ برق- قدرت:برق- کتترل: تاسیسات الکتریکی: الکترونگیکد: مهللسی\\n\\n \\n \\n\\n \\n\\n \\n\\x0c۹620۳060 ۱۷۸۱1 ۲\\n\\n    \\n \\n    \\n  \\n  \\n   \\n   \\n   \\n  \\n   \\n  \\n     \\n \\n    \\n \\n \\n   \\n\\nالکترویک: برق- مخضابرات» برق- کنتزل: دبیم قلی الکترونیک: فهندسی تکنووژی\\nالکترویکه تکنووژی مخایرات\\nتسیسات؛ مکالیک در حرارت و سبالات؛ اسیساث حرارتی؛ نهویه و تبرید حرارت مر کی و\\nنهویه مطبو: تا سرسات حرارتی و پرودنی: دیر فتی تا سرسات: مهند سی تکنولوژی نا سیسات\\nحرارتی و برودتی؛ علمی - کاربردی اسیسات حرارتی و برودتی\\nنایم فلری: حوشکاری. دبیری حستیع فلزی؛ ساختبان های فولادی: ناسیسات فولادی؛\\nعهندسی تکولوژی جوشکاری؛ علمی - کارردی جوشکاری\\nمکائیک خودرو ائومکانیک: دیبر فتی انرمکانپبکده مکایکک در حرارث و سبالات؛ عهندسی\\nتکنولوژی جوشکاری\\nکامیوثر با هر گرایی: رباضی کاربردی با گرایش کامپپوتر: مهدسی نکلولوژی نرء افزار\\nکامییو نم\\n\\n   \\n\\n  \\n\\n  \\n\\n \\n  \\n\\n   \\n \\n \\n\\nحسابد وی آموو بالی: دبیری حسیدار کب علمی- کاربردء, حسایدار 4\\nتشه بردازی؛ دیبر قلی تشه پرداوی: علسی- کاربردی نقله برداری\\n\\nختتران: دییزر قتی اعصان راه و اتعی\\u200cای؛ م اعت\\u200cان مازه؛ عدرات؛ کارهای عمویم ساختمالی:\\n\\nمهندسی تکولرژی سانعصان\\n\\nسالوژی | مواد (دتالوژی) با کلیه گرایش ها (مغالوژیحمومی: مواد: ربطعه گری» ذوب فلزات. آهن و\\n\\n۹ فولاد؛ النخاب و ناسایی مو ده مدل سازی): مهندسی تکتولوزی» حلمی- کارمردن متالوژی\\n\\nصابم جوب: چوب شلاسی و صایم چوب. سازه های چوبی: صایع چوب و کاغ؛ دبیر فنی\\nصنایم چوت» عنوم و صایم چوب و کاغله علوم و صنایع چوب: علمی- کاربر؛ی صایع\\nجوپ, مهندسی تکلولوژی سازء های چوبی؛ مهندسی تکنولوژی صنایم چوب\\n\\n   \\n  \\n\\n    \\n \\n\\n \\n \\n\\nنماش میتماه کار گزدانی: فذرفاق لمانشی\\nاب یقت چد مق با\\n\\x0cباغتی کداورزی- گباه پزشکی\\nدانین های | مهندسی کشاورژی, مگایک ماشین های کشاورزی: معانیژاپون کشاورزی\\nکشاورزی\\n\\nیت مرت وه\\n\\nق تشه کشی صنمتی؛ ساخت و توید عاشین ین ابزار: قالب سازی: فلز کاری» دیر فنی تشه کشی\\nعمومي . | عمومی\\n\\nساخحت و ولید مکانیک ساخت و ولید؛ ماشین ابزان: قلب سازی: فلز کاری؛ دیپرقتی ساخت. و تولیده مکانبکث\\nطراحی جامدات؛ طراحی ماشین؛+ علمی- کاربردی ساحت و تولیده مهندسی تکنولوژی ساخت\\nو تولیه\\n\\n۳\\n\\nالکترویکه: و حخیرات دریایی\\n\\n۳ مکانیک مونورعای دریابی\\n\\nبر تورهای دربایی\\n\\n۳ هراقب سلامت گواهی امه لیسالس فوق لیسانس دکتری و با هم تراژ در یکی از رشته های علوم تغذیه؛\\n۱ امربی مشاشت محرط « که عموهی! تغل به ست هی بهداشت) پزشکی) مامایی: پرستار ی بهداشت\\n\\n۱ بهد اشت) مدارس و بهداشت حانواده\\n\\n۸ مد بر واحد الف) گو اهی مه یسانس؛ لوق لیسانس: دکتر ی و یا هم راز در یکی از رشته های تحصیلی علوم\\nآیو زی تربیثی با گرایش های براسه ریژی آموزشضی: برنامه ریژی درسی و تکنولوژی آمرزشضی: علو م\\n\\nترینی؛ تکلولوژی آغوزشی؛ علوم تربیتی- مدیریت و پرنامه ریزی آموزشی؛ تاریخ فلسفه آموزش\\n\\n1 امور زراعی و | مهندسی کش\\u200cاورزی- زراعت و اصلاع نبانات, مهنه\\u200cسی کشاورزی؛ باغباتی ؛ مهندسی\\n۱\\n۱\\n38\\n\\n \\n\\n \\n\\nو پرورش فلسفه تعلیم و ترست-برذمه ریزی درسی.\\nست) در سصوررت مدم وچوه شرل فوتق: دازا بوردن بکی از مدا رکف تحصیلی ندرج در طرح بملسان\\n\\nمشروط به طی دوره آموزشی مربوط.\\n\\n \\n\\n \\n\\n۹620۳060 ۱۷۸۱1 ۲\\n\\x0c'"
            ],
            "application/vnd.google.colaboratory.intrinsic+json": {
              "type": "string"
            }
          },
          "metadata": {},
          "execution_count": 34
        }
      ]
    }
  ]
}