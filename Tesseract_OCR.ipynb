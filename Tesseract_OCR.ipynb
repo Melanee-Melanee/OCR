{
  "nbformat": 4,
  "nbformat_minor": 0,
  "metadata": {
    "colab": {
      "provenance": []
    },
    "kernelspec": {
      "name": "python3",
      "display_name": "Python 3"
    },
    "language_info": {
      "name": "python"
    }
  },
  "cells": [
    {
      "cell_type": "markdown",
      "source": [
        "Youtube tutorial: https://www.youtube.com/watch?app=desktop&v=7XP5WiKw56Y&t=1117"
      ],
      "metadata": {
        "id": "qQcFZMmeZtb_"
      }
    },
    {
      "cell_type": "code",
      "execution_count": null,
      "metadata": {
        "colab": {
          "base_uri": "https://localhost:8080/"
        },
        "id": "Hn3jExqt_eyi",
        "outputId": "cb8a2867-82f8-4179-ac56-4fb131bfa224"
      },
      "outputs": [
        {
          "output_type": "stream",
          "name": "stdout",
          "text": [
            "Collecting pytesseract\n",
            "  Downloading pytesseract-0.3.10-py3-none-any.whl (14 kB)\n",
            "Requirement already satisfied: packaging>=21.3 in /usr/local/lib/python3.10/dist-packages (from pytesseract) (24.0)\n",
            "Requirement already satisfied: Pillow>=8.0.0 in /usr/local/lib/python3.10/dist-packages (from pytesseract) (9.4.0)\n",
            "Installing collected packages: pytesseract\n",
            "Successfully installed pytesseract-0.3.10\n"
          ]
        }
      ],
      "source": [
        "!pip install pytesseract"
      ]
    },
    {
      "cell_type": "code",
      "source": [
        "!apt-get install tesseract-ocr"
      ],
      "metadata": {
        "colab": {
          "base_uri": "https://localhost:8080/"
        },
        "id": "ygC_wAg0EM_Q",
        "outputId": "632e56ed-33d3-45f0-b9c8-d13adc0976d7"
      },
      "execution_count": null,
      "outputs": [
        {
          "output_type": "stream",
          "name": "stdout",
          "text": [
            "Reading package lists... Done\n",
            "Building dependency tree... Done\n",
            "Reading state information... Done\n",
            "tesseract-ocr is already the newest version (4.1.1-2.1build1).\n",
            "0 upgraded, 0 newly installed, 0 to remove and 45 not upgraded.\n"
          ]
        }
      ]
    },
    {
      "cell_type": "code",
      "source": [
        "!pip install pillow"
      ],
      "metadata": {
        "colab": {
          "base_uri": "https://localhost:8080/"
        },
        "id": "AY9ka5CiAXP0",
        "outputId": "7938978b-8aac-4fa7-dd2d-0706585ba4bb"
      },
      "execution_count": null,
      "outputs": [
        {
          "output_type": "stream",
          "name": "stdout",
          "text": [
            "Requirement already satisfied: pillow in /usr/local/lib/python3.10/dist-packages (9.4.0)\n"
          ]
        }
      ]
    },
    {
      "cell_type": "code",
      "source": [
        "from PIL import Image\n",
        "import pytesseract"
      ],
      "metadata": {
        "id": "7iEmLnClAfcU"
      },
      "execution_count": null,
      "outputs": []
    },
    {
      "cell_type": "markdown",
      "source": [
        "## Find tesseracr executable path"
      ],
      "metadata": {
        "id": "_QUrBTADPYBm"
      }
    },
    {
      "cell_type": "code",
      "source": [
        "!which tesseract"
      ],
      "metadata": {
        "colab": {
          "base_uri": "https://localhost:8080/"
        },
        "id": "2C9uP-iXDOAX",
        "outputId": "83e3d2f4-8645-4cd4-932d-a8f498998968"
      },
      "execution_count": null,
      "outputs": [
        {
          "output_type": "stream",
          "name": "stdout",
          "text": [
            "/usr/bin/tesseract\n"
          ]
        }
      ]
    },
    {
      "cell_type": "code",
      "source": [
        "pytesseract.pytesseract.tesseract_cmd = r'/usr/bin/tesseract'"
      ],
      "metadata": {
        "id": "h0_RenZ5B6If"
      },
      "execution_count": null,
      "outputs": []
    },
    {
      "cell_type": "markdown",
      "source": [
        "# English language"
      ],
      "metadata": {
        "id": "HEQdKSrYPgp5"
      }
    },
    {
      "cell_type": "code",
      "source": [
        "img_path ='test.png'\n",
        "img = Image.open(img_path)"
      ],
      "metadata": {
        "id": "H8oNpQFxAr3B"
      },
      "execution_count": null,
      "outputs": []
    },
    {
      "cell_type": "code",
      "source": [
        "text = pytesseract.image_to_string(img)"
      ],
      "metadata": {
        "id": "xAAPMXdqBoey"
      },
      "execution_count": null,
      "outputs": []
    },
    {
      "cell_type": "code",
      "source": [
        "print(text)"
      ],
      "metadata": {
        "colab": {
          "base_uri": "https://localhost:8080/"
        },
        "id": "B-aI9C7rEr1c",
        "outputId": "c516943a-dac0-4244-aa73-47ca622a2674"
      },
      "execution_count": null,
      "outputs": [
        {
          "output_type": "stream",
          "name": "stdout",
          "text": [
            "Extracting Old Persian Cuneiform Font Out of\n",
            "Noisy Images (Handwritten or Inscription)\n",
            "\f\n"
          ]
        }
      ]
    },
    {
      "cell_type": "markdown",
      "source": [
        "# Persian language\n",
        "\n",
        "1. I need to download data file for my persian language from: https://github.com/tesseract-ocr/tessdata\n",
        "\n",
        "3. Upload it in google colab machine\n",
        "\n",
        "2. Move \"fas.traineddata\" file in the tessdata directory of your machine"
      ],
      "metadata": {
        "id": "4469drnuPMSt"
      }
    },
    {
      "cell_type": "code",
      "source": [
        "!find / -name tessdata"
      ],
      "metadata": {
        "colab": {
          "base_uri": "https://localhost:8080/"
        },
        "id": "4VVNcHTTD_MW",
        "outputId": "151550ff-390c-440c-a501-8949bff89a95"
      },
      "execution_count": null,
      "outputs": [
        {
          "output_type": "stream",
          "name": "stdout",
          "text": [
            "find: ‘/proc/62/task/62/net’: Invalid argument\n",
            "find: ‘/proc/62/net’: Invalid argument\n",
            "/usr/share/tesseract-ocr/4.00/tessdata\n"
          ]
        }
      ]
    },
    {
      "cell_type": "code",
      "source": [
        "!mv /fas.traineddata /usr/share/tesseract-ocr/4.00/tessdata"
      ],
      "metadata": {
        "id": "ubsdXEe6M0iJ"
      },
      "execution_count": null,
      "outputs": []
    },
    {
      "cell_type": "code",
      "source": [
        "img_path_per ='test-persian.png'\n",
        "img = Image.open(img_path_per)"
      ],
      "metadata": {
        "id": "AMEdPCHRFZy_"
      },
      "execution_count": null,
      "outputs": []
    },
    {
      "cell_type": "code",
      "source": [
        "text = pytesseract.image_to_string(img, lang='fas')"
      ],
      "metadata": {
        "id": "LkPq8tSIFodf"
      },
      "execution_count": null,
      "outputs": []
    },
    {
      "cell_type": "code",
      "source": [
        "print(text)"
      ],
      "metadata": {
        "colab": {
          "base_uri": "https://localhost:8080/"
        },
        "id": "7YFYW8e5FrSB",
        "outputId": "0de6a8b4-f549-49ef-ae1a-27b6e0de030b"
      },
      "execution_count": null,
      "outputs": [
        {
          "output_type": "stream",
          "name": "stdout",
          "text": [
            "ترجمه اسناد تاریخی با هوش مصنوعی\n",
            "\f\n"
          ]
        }
      ]
    }
  ]
}