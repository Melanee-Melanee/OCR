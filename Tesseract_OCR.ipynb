{
  "nbformat": 4,
  "nbformat_minor": 0,
  "metadata": {
    "colab": {
      "provenance": [],
      "authorship_tag": "ABX9TyOIMhfdHAmKHRDycaJbKrFk",
      "include_colab_link": true
    },
    "kernelspec": {
      "name": "python3",
      "display_name": "Python 3"
    },
    "language_info": {
      "name": "python"
    }
  },
  "cells": [
    {
      "cell_type": "markdown",
      "metadata": {
        "id": "view-in-github",
        "colab_type": "text"
      },
      "source": [
        "<a href=\"https://colab.research.google.com/github/Melanee-Melanee/OCR/blob/main/Tesseract_OCR.ipynb\" target=\"_parent\"><img src=\"https://colab.research.google.com/assets/colab-badge.svg\" alt=\"Open In Colab\"/></a>"
      ]
    },
    {
      "cell_type": "markdown",
      "source": [
        "Youtube tutorial: https://www.youtube.com/watch?app=desktop&v=7XP5WiKw56Y&t=1117"
      ],
      "metadata": {
        "id": "qQcFZMmeZtb_"
      }
    },
    {
      "cell_type": "code",
      "execution_count": null,
      "metadata": {
        "colab": {
          "base_uri": "https://localhost:8080/"
        },
        "id": "Hn3jExqt_eyi",
        "outputId": "c1fa19b6-1922-4460-f97d-819b2f93e40b"
      },
      "outputs": [
        {
          "output_type": "stream",
          "name": "stdout",
          "text": [
            "Collecting pytesseract\n",
            "  Downloading pytesseract-0.3.10-py3-none-any.whl (14 kB)\n",
            "Requirement already satisfied: packaging>=21.3 in /usr/local/lib/python3.10/dist-packages (from pytesseract) (24.0)\n",
            "Requirement already satisfied: Pillow>=8.0.0 in /usr/local/lib/python3.10/dist-packages (from pytesseract) (9.4.0)\n",
            "Installing collected packages: pytesseract\n",
            "Successfully installed pytesseract-0.3.10\n"
          ]
        }
      ],
      "source": [
        "!pip install pytesseract"
      ]
    },
    {
      "cell_type": "code",
      "source": [
        "!apt-get install tesseract-ocr"
      ],
      "metadata": {
        "colab": {
          "base_uri": "https://localhost:8080/"
        },
        "id": "ygC_wAg0EM_Q",
        "outputId": "3ba14994-1e7f-49e2-cb11-89c2c666a741"
      },
      "execution_count": null,
      "outputs": [
        {
          "output_type": "stream",
          "name": "stdout",
          "text": [
            "Reading package lists... Done\n",
            "Building dependency tree... Done\n",
            "Reading state information... Done\n",
            "The following additional packages will be installed:\n",
            "  tesseract-ocr-eng tesseract-ocr-osd\n",
            "The following NEW packages will be installed:\n",
            "  tesseract-ocr tesseract-ocr-eng tesseract-ocr-osd\n",
            "0 upgraded, 3 newly installed, 0 to remove and 45 not upgraded.\n",
            "Need to get 4,816 kB of archives.\n",
            "After this operation, 15.6 MB of additional disk space will be used.\n",
            "Get:1 http://archive.ubuntu.com/ubuntu jammy/universe amd64 tesseract-ocr-eng all 1:4.00~git30-7274cfa-1.1 [1,591 kB]\n",
            "Get:2 http://archive.ubuntu.com/ubuntu jammy/universe amd64 tesseract-ocr-osd all 1:4.00~git30-7274cfa-1.1 [2,990 kB]\n",
            "Get:3 http://archive.ubuntu.com/ubuntu jammy/universe amd64 tesseract-ocr amd64 4.1.1-2.1build1 [236 kB]\n",
            "Fetched 4,816 kB in 0s (11.9 MB/s)\n",
            "Selecting previously unselected package tesseract-ocr-eng.\n",
            "(Reading database ... 121918 files and directories currently installed.)\n",
            "Preparing to unpack .../tesseract-ocr-eng_1%3a4.00~git30-7274cfa-1.1_all.deb ...\n",
            "Unpacking tesseract-ocr-eng (1:4.00~git30-7274cfa-1.1) ...\n",
            "Selecting previously unselected package tesseract-ocr-osd.\n",
            "Preparing to unpack .../tesseract-ocr-osd_1%3a4.00~git30-7274cfa-1.1_all.deb ...\n",
            "Unpacking tesseract-ocr-osd (1:4.00~git30-7274cfa-1.1) ...\n",
            "Selecting previously unselected package tesseract-ocr.\n",
            "Preparing to unpack .../tesseract-ocr_4.1.1-2.1build1_amd64.deb ...\n",
            "Unpacking tesseract-ocr (4.1.1-2.1build1) ...\n",
            "Setting up tesseract-ocr-eng (1:4.00~git30-7274cfa-1.1) ...\n",
            "Setting up tesseract-ocr-osd (1:4.00~git30-7274cfa-1.1) ...\n",
            "Setting up tesseract-ocr (4.1.1-2.1build1) ...\n",
            "Processing triggers for man-db (2.10.2-1) ...\n"
          ]
        }
      ]
    },
    {
      "cell_type": "code",
      "source": [
        "!pip install pillow"
      ],
      "metadata": {
        "colab": {
          "base_uri": "https://localhost:8080/"
        },
        "id": "AY9ka5CiAXP0",
        "outputId": "61e0d219-dc48-41e4-897c-68e19791c407"
      },
      "execution_count": null,
      "outputs": [
        {
          "output_type": "stream",
          "name": "stdout",
          "text": [
            "Requirement already satisfied: pillow in /usr/local/lib/python3.10/dist-packages (9.4.0)\n"
          ]
        }
      ]
    },
    {
      "cell_type": "code",
      "source": [
        "from PIL import Image\n",
        "import pytesseract"
      ],
      "metadata": {
        "id": "7iEmLnClAfcU"
      },
      "execution_count": 32,
      "outputs": []
    },
    {
      "cell_type": "markdown",
      "source": [
        "## Find tesseracr executable path"
      ],
      "metadata": {
        "id": "_QUrBTADPYBm"
      }
    },
    {
      "cell_type": "code",
      "source": [
        "!which tesseract"
      ],
      "metadata": {
        "colab": {
          "base_uri": "https://localhost:8080/"
        },
        "id": "2C9uP-iXDOAX",
        "outputId": "83e3d2f4-8645-4cd4-932d-a8f498998968"
      },
      "execution_count": null,
      "outputs": [
        {
          "output_type": "stream",
          "name": "stdout",
          "text": [
            "/usr/bin/tesseract\n"
          ]
        }
      ]
    },
    {
      "cell_type": "code",
      "source": [
        "pytesseract.pytesseract.tesseract_cmd = r'/usr/bin/tesseract'"
      ],
      "metadata": {
        "id": "h0_RenZ5B6If"
      },
      "execution_count": 57,
      "outputs": []
    },
    {
      "cell_type": "markdown",
      "source": [
        "# English language"
      ],
      "metadata": {
        "id": "HEQdKSrYPgp5"
      }
    },
    {
      "cell_type": "code",
      "source": [
        "img_path ='test.png'\n",
        "img = Image.open(img_path)"
      ],
      "metadata": {
        "id": "H8oNpQFxAr3B"
      },
      "execution_count": 35,
      "outputs": []
    },
    {
      "cell_type": "code",
      "source": [
        "text = pytesseract.image_to_string(img)"
      ],
      "metadata": {
        "id": "xAAPMXdqBoey"
      },
      "execution_count": 36,
      "outputs": []
    },
    {
      "cell_type": "code",
      "source": [
        "print(text)"
      ],
      "metadata": {
        "colab": {
          "base_uri": "https://localhost:8080/"
        },
        "id": "B-aI9C7rEr1c",
        "outputId": "fc76cd06-2345-4ff6-f5f2-2ad8b8c621c3"
      },
      "execution_count": 37,
      "outputs": [
        {
          "output_type": "stream",
          "name": "stdout",
          "text": [
            "Extracting Old Persian Cuneiform Font Out of\n",
            "Noisy Images (Handwritten or Inscription)\n",
            "\f\n"
          ]
        }
      ]
    },
    {
      "cell_type": "markdown",
      "source": [
        "# Persian language\n",
        "\n",
        "1. I need to download data file for my persian language from: https://github.com/tesseract-ocr/tessdata\n",
        "\n",
        "3. Upload it in google colab machine\n",
        "\n",
        "2. Move \"fas.traineddata\" file in the tessdata directory of your machine"
      ],
      "metadata": {
        "id": "4469drnuPMSt"
      }
    },
    {
      "cell_type": "code",
      "source": [
        "!find / -name tessdata"
      ],
      "metadata": {
        "colab": {
          "base_uri": "https://localhost:8080/"
        },
        "id": "4VVNcHTTD_MW",
        "outputId": "151550ff-390c-440c-a501-8949bff89a95"
      },
      "execution_count": null,
      "outputs": [
        {
          "output_type": "stream",
          "name": "stdout",
          "text": [
            "find: ‘/proc/62/task/62/net’: Invalid argument\n",
            "find: ‘/proc/62/net’: Invalid argument\n",
            "/usr/share/tesseract-ocr/4.00/tessdata\n"
          ]
        }
      ]
    },
    {
      "cell_type": "code",
      "source": [
        "!mv /fas.traineddata /usr/share/tesseract-ocr/4.00/tessdata"
      ],
      "metadata": {
        "id": "ubsdXEe6M0iJ"
      },
      "execution_count": null,
      "outputs": []
    },
    {
      "cell_type": "code",
      "source": [
        "img_path_per ='test-persian.png'\n",
        "img = Image.open(img_path_per)"
      ],
      "metadata": {
        "id": "AMEdPCHRFZy_"
      },
      "execution_count": null,
      "outputs": []
    },
    {
      "cell_type": "code",
      "source": [],
      "metadata": {
        "id": "K2YkigMhxyD_"
      },
      "execution_count": null,
      "outputs": []
    },
    {
      "cell_type": "code",
      "source": [
        "text = pytesseract.image_to_string(img, lang='fas')"
      ],
      "metadata": {
        "id": "LkPq8tSIFodf"
      },
      "execution_count": null,
      "outputs": []
    },
    {
      "cell_type": "code",
      "source": [
        "print(text)"
      ],
      "metadata": {
        "colab": {
          "base_uri": "https://localhost:8080/"
        },
        "id": "7YFYW8e5FrSB",
        "outputId": "0de6a8b4-f549-49ef-ae1a-27b6e0de030b"
      },
      "execution_count": null,
      "outputs": [
        {
          "output_type": "stream",
          "name": "stdout",
          "text": [
            "ترجمه اسناد تاریخی با هوش مصنوعی\n",
            "\f\n"
          ]
        }
      ]
    },
    {
      "cell_type": "markdown",
      "source": [
        "# Cuneiform"
      ],
      "metadata": {
        "id": "fn_rz9sFw5W8"
      }
    },
    {
      "cell_type": "markdown",
      "source": [],
      "metadata": {
        "id": "ZSwVBuR-2gNx"
      }
    },
    {
      "cell_type": "code",
      "source": [
        "!mv /myLang.traineddata /usr/share/tesseract-ocr/4.00/tessdata"
      ],
      "metadata": {
        "colab": {
          "base_uri": "https://localhost:8080/"
        },
        "id": "az-DxIRFw9PJ",
        "outputId": "48f28d1a-babb-49a1-c8b9-e7cd4c0603da"
      },
      "execution_count": null,
      "outputs": [
        {
          "output_type": "stream",
          "name": "stdout",
          "text": [
            "mv: cannot stat '/myLang.traineddata': No such file or directory\n"
          ]
        }
      ]
    },
    {
      "cell_type": "code",
      "source": [
        "!mv /mama.JPG /content"
      ],
      "metadata": {
        "colab": {
          "base_uri": "https://localhost:8080/"
        },
        "id": "SVBTufcHyw9V",
        "outputId": "024d5004-da0c-4bb2-8dcd-2fe610760c4b"
      },
      "execution_count": null,
      "outputs": [
        {
          "output_type": "stream",
          "name": "stdout",
          "text": [
            "mv: cannot stat '/mama.JPG': No such file or directory\n"
          ]
        }
      ]
    },
    {
      "cell_type": "markdown",
      "source": [
        "## Install Old Persian Cuneiform (Achaemenid) font\n",
        "\n",
        "1. Download and then upload \"Persian-old.TTF\" file\n",
        "2. Make a directory: ~/.local/share/fonts\n",
        "3. Move it ~/.local/share/fonts/"
      ],
      "metadata": {
        "id": "_udkacjQ7FKH"
      }
    },
    {
      "cell_type": "code",
      "source": [
        "!mkdir -p ~/.local/share/fonts\n"
      ],
      "metadata": {
        "id": "quVRg9nN1qQD"
      },
      "execution_count": null,
      "outputs": []
    },
    {
      "cell_type": "code",
      "source": [
        "!mv /Persian-old.TTF ~/.local/share/fonts/\n"
      ],
      "metadata": {
        "id": "Uh5TWZCu1t0F"
      },
      "execution_count": null,
      "outputs": []
    },
    {
      "cell_type": "code",
      "source": [
        "!fc-cache -f -v\n"
      ],
      "metadata": {
        "colab": {
          "base_uri": "https://localhost:8080/"
        },
        "id": "mVAuwN7O2Af1",
        "outputId": "6f5e9248-7505-4b36-8c06-00123fc8afac"
      },
      "execution_count": null,
      "outputs": [
        {
          "output_type": "stream",
          "name": "stdout",
          "text": [
            "/usr/share/fonts: caching, new cache contents: 0 fonts, 1 dirs\n",
            "/usr/share/fonts/truetype: caching, new cache contents: 0 fonts, 2 dirs\n",
            "/usr/share/fonts/truetype/humor-sans: caching, new cache contents: 1 fonts, 0 dirs\n",
            "/usr/share/fonts/truetype/liberation: caching, new cache contents: 16 fonts, 0 dirs\n",
            "/usr/local/share/fonts: caching, new cache contents: 0 fonts, 0 dirs\n",
            "/root/.local/share/fonts: caching, new cache contents: 1 fonts, 0 dirs\n",
            "/root/.fonts: skipping, no such directory\n",
            "/usr/share/fonts/truetype: skipping, looped directory detected\n",
            "/usr/share/fonts/truetype/humor-sans: skipping, looped directory detected\n",
            "/usr/share/fonts/truetype/liberation: skipping, looped directory detected\n",
            "/var/cache/fontconfig: cleaning cache directory\n",
            "/root/.cache/fontconfig: not cleaning non-existent cache directory\n",
            "/root/.fontconfig: not cleaning non-existent cache directory\n",
            "fc-cache: succeeded\n"
          ]
        }
      ]
    },
    {
      "cell_type": "code",
      "source": [
        "#check if the font is installed\n",
        "print('𐏐 𐎲 𐎠 𐎼𐏃𐎴𐏐𐏀𐎰𐎺𐎢𐏁𐏐𐏂𐎠𐎲𐏐𐏄𐎢𐏏𐏐𐎦𐎯𐎫𐎡𐎹𐎢𐎴𐎠𐎼𐎶𐎹𐎢𐎺𐏂𐏌𐎠𐎺𐏐𐏀')"
      ],
      "metadata": {
        "colab": {
          "base_uri": "https://localhost:8080/"
        },
        "id": "brNbl3Wa5g_i",
        "outputId": "9a548978-2df5-43f0-c58d-50326166eaf5"
      },
      "execution_count": 52,
      "outputs": [
        {
          "output_type": "stream",
          "name": "stdout",
          "text": [
            "𐏐 𐎲 𐎠 𐎼𐏃𐎴𐏐𐏀𐎰𐎺𐎢𐏁𐏐𐏂𐎠𐎲𐏐𐏄𐎢𐏏𐏐𐎦𐎯𐎫𐎡𐎹𐎢𐎴𐎠𐎼𐎶𐎹𐎢𐎺𐏂𐏌𐎠𐎺𐏐𐏀\n"
          ]
        }
      ]
    },
    {
      "cell_type": "code",
      "source": [
        "img_path_per ='cuneiform.jpg'\n",
        "img = Image.open(img_path_per)"
      ],
      "metadata": {
        "id": "Dozn0nUfxzp_"
      },
      "execution_count": 49,
      "outputs": []
    },
    {
      "cell_type": "code",
      "source": [
        "text = pytesseract.image_to_string(img, lang='myLang')"
      ],
      "metadata": {
        "id": "64X33ZWnzH2c"
      },
      "execution_count": 50,
      "outputs": []
    },
    {
      "cell_type": "code",
      "source": [
        "print(text)"
      ],
      "metadata": {
        "colab": {
          "base_uri": "https://localhost:8080/"
        },
        "id": "vDQdDyLgzLhZ",
        "outputId": "1331051a-8368-4338-ca4b-313681d2f33a"
      },
      "execution_count": 51,
      "outputs": [
        {
          "output_type": "stream",
          "name": "stdout",
          "text": [
            "aiukach\n",
            "jJiDQtTZ\n",
            "\n",
            "anfbmy y\n",
            "rRlvisSzh\n",
            "\f\n"
          ]
        }
      ]
    },
    {
      "cell_type": "markdown",
      "source": [
        "# Anceint Greek"
      ],
      "metadata": {
        "id": "jgvfn78FCwh5"
      }
    },
    {
      "cell_type": "code",
      "source": [
        "!mv /grc.traineddata /usr/share/tesseract-ocr/4.00/tessdata"
      ],
      "metadata": {
        "id": "e26K1yw7C0SZ"
      },
      "execution_count": 56,
      "outputs": []
    },
    {
      "cell_type": "code",
      "source": [
        "img_path_per ='greek2.jpg'\n",
        "img = Image.open(img_path_per)"
      ],
      "metadata": {
        "id": "pdcCx3O1FEnh"
      },
      "execution_count": 61,
      "outputs": []
    },
    {
      "cell_type": "code",
      "source": [
        "text = pytesseract.image_to_string(img, lang='grc')"
      ],
      "metadata": {
        "id": "KQYwDSuZFShR"
      },
      "execution_count": 62,
      "outputs": []
    },
    {
      "cell_type": "code",
      "source": [
        "print(text)"
      ],
      "metadata": {
        "colab": {
          "base_uri": "https://localhost:8080/"
        },
        "id": "zo3QM_EZFW5C",
        "outputId": "5ed19e0c-abdd-4d4f-d4c3-87d1678fb018"
      },
      "execution_count": 63,
      "outputs": [
        {
          "output_type": "stream",
          "name": "stdout",
          "text": [
            "          \n",
            "\n",
            "Ἐ ΕΝ Θῦᾖ...ι;...ω\n",
            "\n",
            "πς ϑρ ετ -.ωΐ Ν ὰ \"\n",
            "\n",
            "ὙΠ Ε Ἐ ς\n",
            "\n",
            "    \n",
            "     \n",
            "\n",
            " \n",
            "\n",
            "  \n",
            "\n",
            "Ὶ\n",
            "...͵Ν .\n",
            "\n",
            ".......Ξἓ ὑ Ἐ\n",
            "\n",
            "      \n",
            "        \n",
            "\n",
            "μ ι...ιι\n",
            "ΜἹ.ΦΒ\n",
            "\n",
            "Ζ... ΤΝ ἵ.....\n",
            "\n",
            "      \n",
            "\n",
            "ο τ -\n",
            "\n",
            "Ὑπο τ ς\n",
            "\n",
            "Ε Ἐ ΓΟΝ\n",
            "\n",
            "ὰ ...ῖ αἷηξέἦκ Ν Ἱἄ.......ὉἼἡ» ).ἂ.ιξ ΛΟ ἌΙΛ....ΜἸ\n",
            "\n",
            " \n",
            "\f\n"
          ]
        }
      ]
    },
    {
      "cell_type": "code",
      "source": [],
      "metadata": {
        "id": "pEFyPTF1FYps"
      },
      "execution_count": null,
      "outputs": []
    }
  ]
}