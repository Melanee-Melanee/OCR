{
  "cells": [
    {
      "cell_type": "markdown",
      "metadata": {
        "id": "view-in-github",
        "colab_type": "text"
      },
      "source": [
        "<a href=\"https://colab.research.google.com/github/Melanee-Melanee/OCR/blob/main/YOLO_v8_Object_Detection.ipynb\" target=\"_parent\"><img src=\"https://colab.research.google.com/assets/colab-badge.svg\" alt=\"Open In Colab\"/></a>"
      ]
    },
    {
      "cell_type": "markdown",
      "source": [
        "# Train Yolov8 object detection on a custom dataset(Gloves, Helmet, ... detection )\n",
        "\n",
        "\n",
        "References:\n",
        "\n",
        "https://www.youtube.com/watch?v=iy34dSwfEsY\n",
        "\n",
        "https://github.com/entbappy/YOLO-v8-Object-Detection\n",
        "\n",
        "https://github.com/ultralytics/ultralytics\n",
        "\n",
        "Annotation tool:\n",
        "\n",
        "https://www.cvat.ai/"
      ],
      "metadata": {
        "id": "6qFF40Slcv5a"
      }
    },
    {
      "cell_type": "code",
      "execution_count": null,
      "metadata": {
        "id": "o7_AQ_tQ14lE"
      },
      "outputs": [],
      "source": [
        "# to check GPU:\n",
        "\n",
        "# !nvidia-smi"
      ]
    },
    {
      "cell_type": "code",
      "execution_count": null,
      "metadata": {
        "colab": {
          "base_uri": "https://localhost:8080/"
        },
        "id": "-La9GLio-cVT",
        "outputId": "f7d30428-d91c-4dfb-f9e7-17edf36b2d6f"
      },
      "outputs": [
        {
          "output_type": "stream",
          "name": "stdout",
          "text": [
            "Drive already mounted at /content/drive; to attempt to forcibly remount, call drive.mount(\"/content/drive\", force_remount=True).\n"
          ]
        }
      ],
      "source": [
        "# mount this notebook to Goole Drive\n",
        "\n",
        "from google.colab import drive\n",
        "drive.mount('/content/drive')"
      ]
    },
    {
      "cell_type": "code",
      "execution_count": null,
      "metadata": {
        "id": "znF1PKK9XcCH"
      },
      "outputs": [],
      "source": [
        "#if you get UTF-8 error on your Goole colab:\n",
        "\n",
        "# import locale\n",
        "# print(locale.getpreferredencoding())\n",
        "# def getpreferredencoding(do_setlocale = True):\n",
        "#     return \"UTF-8\"\n",
        "# locale.getpreferredencoding = getpreferredencoding"
      ]
    },
    {
      "cell_type": "markdown",
      "source": [
        "# List of classes for object detection:\n",
        "\n",
        "https://github.com/leggedrobotics/darknet_ros/blob/master/README.md\n",
        "\n",
        "https://docs.ultralytics.com/models/#featured-models\n",
        "\n",
        "\n",
        "## Based on the Pascal VOC 2012 dataset, YOLO can detect the 20 Pascal object classes:\n",
        "\n",
        "person\n",
        "bird, cat, cow, dog, horse, sheep\n",
        "aeroplane, bicycle, boat, bus, car, motorbike, train\n",
        "bottle, chair, dining table, potted plant, sofa, tv/monitor\n",
        "\n",
        "## Based on the COCO dataset, YOLO can detect the 80 COCO object classes:\n",
        "\n",
        "person\n",
        "bicycle, car, motorbike, aeroplane, bus, train, truck, boat\n",
        "traffic light, fire hydrant, stop sign, parking meter, bench\n",
        "cat, dog, horse, sheep, cow, elephant, bear, zebra, giraffe\n",
        "backpack, umbrella, handbag, tie, suitcase, frisbee, skis, snowboard, sports ball, kite, baseball bat, baseball glove, skateboard, surfboard, tennis racket\n",
        "bottle, wine glass, cup, fork, knife, spoon, bowl\n",
        "banana, apple, sandwich, orange, broccoli, carrot, hot dog, pizza, donut, cake\n",
        "chair, sofa, pottedplant, bed, diningtable, toilet, tvmonitor, laptop, mouse, remote, keyboard, cell phone, microwave, oven, toaster, sink, refrigerator, book, clock, vase, scissors, teddy bear, hair drier, toothbrush\n",
        "\n",
        "\n"
      ],
      "metadata": {
        "id": "2YgjfgbjVzex"
      }
    },
    {
      "cell_type": "code",
      "execution_count": null,
      "metadata": {
        "colab": {
          "base_uri": "https://localhost:8080/"
        },
        "id": "Wl3LLr5B4ahr",
        "outputId": "45d3b428-fb1f-443d-cd5c-55085f2961a0"
      },
      "outputs": [
        {
          "name": "stdout",
          "output_type": "stream",
          "text": [
            "Ultralytics YOLOv8.2.31 🚀 Python-3.10.12 torch-2.3.0+cu121 CUDA:0 (Tesla T4, 15102MiB)\n",
            "YOLOv8n summary (fused): 168 layers, 3151904 parameters, 0 gradients, 8.7 GFLOPs\n",
            "\n",
            "image 1/1 /content/busss.png: 512x640 1 bus, 98.8ms\n",
            "Speed: 5.1ms preprocess, 98.8ms inference, 572.4ms postprocess per image at shape (1, 3, 512, 640)\n",
            "Results saved to \u001b[1mruns/detect/predict2\u001b[0m\n",
            "💡 Learn more at https://docs.ultralytics.com/modes/predict\n"
          ]
        }
      ],
      "source": [
        "# using pre-trained yolov8 dataset and model to detect ojects\n",
        "\n",
        "!pip install ultralytics\n",
        "!yolo predict model=yolov8n.pt source= /content/busss.png"
      ]
    },
    {
      "cell_type": "code",
      "execution_count": null,
      "metadata": {
        "colab": {
          "base_uri": "https://localhost:8080/"
        },
        "id": "4xVPsX4H9sBW",
        "outputId": "4bbbc0b8-33df-4647-999d-f90c23128cba"
      },
      "outputs": [
        {
          "output_type": "stream",
          "name": "stderr",
          "text": [
            "Ultralytics YOLOv8.0.20 🚀 Python-3.10.12 torch-2.3.0+cu121 CPU\n",
            "Setup complete ✅ (2 CPUs, 12.7 GB RAM, 30.2/107.7 GB disk)\n"
          ]
        }
      ],
      "source": [
        "!pip install ultralytics==8.0.20\n",
        "\n",
        "from IPython import display\n",
        "display.clear_output()\n",
        "\n",
        "import ultralytics\n",
        "ultralytics.checks()"
      ]
    },
    {
      "cell_type": "code",
      "execution_count": null,
      "metadata": {
        "id": "5xl1FNsP-RA0"
      },
      "outputs": [],
      "source": [
        "from ultralytics import YOLO\n",
        "\n",
        "from IPython.display import display, Image"
      ]
    },
    {
      "cell_type": "code",
      "execution_count": null,
      "metadata": {
        "colab": {
          "base_uri": "https://localhost:8080/"
        },
        "id": "fvlUKFcF-1nH",
        "outputId": "5193690b-fdcc-4f3b-86bd-747a633b7e4a"
      },
      "outputs": [
        {
          "output_type": "stream",
          "name": "stdout",
          "text": [
            "/content/drive/MyDrive/Classes/YOLOv8\n"
          ]
        }
      ],
      "source": [
        "%cd /content/drive/MyDrive/Classes/YOLOv8"
      ]
    },
    {
      "cell_type": "code",
      "execution_count": null,
      "metadata": {
        "colab": {
          "base_uri": "https://localhost:8080/"
        },
        "id": "5AkQRGoR_AIk",
        "outputId": "8c475fb6-bb1c-4a81-ba5d-6121dcead46d"
      },
      "outputs": [
        {
          "output_type": "stream",
          "name": "stdout",
          "text": [
            "data  data.yaml  runs  YOLO-v8-Object-Detection.ipynb\n"
          ]
        }
      ],
      "source": [
        "!ls"
      ]
    },
    {
      "cell_type": "code",
      "execution_count": null,
      "metadata": {
        "id": "LYTWn1UD_Bgw"
      },
      "outputs": [],
      "source": []
    },
    {
      "cell_type": "code",
      "execution_count": 2,
      "metadata": {
        "colab": {
          "base_uri": "https://localhost:8080/"
        },
        "id": "W8ki_iE5ATOr",
        "outputId": "d7e58fc2-251f-4b72-f7f2-f0fd3b557cf9"
      },
      "outputs": [
        {
          "output_type": "stream",
          "name": "stdout",
          "text": [
            "/content/drive/MyDrive/Classes/YOLOv8\n",
            "/bin/bash: line 1: yolo: command not found\n"
          ]
        }
      ],
      "source": [
        "# Creating our custom yolo model\n",
        "\n",
        "%cd /content/drive/MyDrive/Classes/YOLOv8\n",
        "\n",
        "!yolo task=detect mode=train model=yolov8s.pt data= data.yaml epochs=5 imgsz=224 plots=True\n"
      ]
    },
    {
      "cell_type": "code",
      "execution_count": null,
      "metadata": {
        "colab": {
          "base_uri": "https://localhost:8080/"
        },
        "id": "g_pgbpboKvo2",
        "outputId": "e60ceceb-13a5-469b-8554-abd53182f6df"
      },
      "outputs": [
        {
          "output_type": "stream",
          "name": "stdout",
          "text": [
            "best.pt  last.pt\n"
          ]
        }
      ],
      "source": [
        "!ls runs/detect/train/weights\n"
      ]
    },
    {
      "cell_type": "code",
      "execution_count": null,
      "metadata": {
        "colab": {
          "base_uri": "https://localhost:8080/"
        },
        "id": "Jb0l_h8LQyLC",
        "outputId": "78abf2c0-3cb8-4ea2-9822-283be29b2503"
      },
      "outputs": [
        {
          "output_type": "stream",
          "name": "stdout",
          "text": [
            "2024-06-12 07:57:04.676085: E external/local_xla/xla/stream_executor/cuda/cuda_dnn.cc:9261] Unable to register cuDNN factory: Attempting to register factory for plugin cuDNN when one has already been registered\n",
            "2024-06-12 07:57:04.676165: E external/local_xla/xla/stream_executor/cuda/cuda_fft.cc:607] Unable to register cuFFT factory: Attempting to register factory for plugin cuFFT when one has already been registered\n",
            "2024-06-12 07:57:04.679157: E external/local_xla/xla/stream_executor/cuda/cuda_blas.cc:1515] Unable to register cuBLAS factory: Attempting to register factory for plugin cuBLAS when one has already been registered\n",
            "2024-06-12 07:57:04.692934: I tensorflow/core/platform/cpu_feature_guard.cc:182] This TensorFlow binary is optimized to use available CPU instructions in performance-critical operations.\n",
            "To enable the following instructions: AVX2 FMA, in other operations, rebuild TensorFlow with the appropriate compiler flags.\n",
            "2024-06-12 07:57:06.362676: W tensorflow/compiler/tf2tensorrt/utils/py_utils.cc:38] TF-TRT Warning: Could not find TensorRT\n",
            "Ultralytics YOLOv8.0.20 🚀 Python-3.10.12 torch-2.3.0+cu121 CPU\n",
            "Model summary (fused): 168 layers, 11127519 parameters, 0 gradients, 28.4 GFLOPs\n",
            "\u001b[34m\u001b[1mval: \u001b[0mScanning /content/drive/MyDrive/Classes/YOLOv8/data/valid/labels.cache... 31 images, 0 backgrounds, 0 corrupt: 100% 31/31 [00:00<?, ?it/s]\n",
            "                 Class     Images  Instances      Box(P          R      mAP50  mAP50-95): 100% 2/2 [00:06<00:00,  3.01s/it]\n",
            "                   all         31        101      0.659      0.413      0.445      0.258\n",
            "                Helmet         31         18      0.893      0.944      0.958      0.669\n",
            "               Goggles         31          9          1          0      0.071     0.0224\n",
            "                Jacket         31         14      0.666      0.286      0.437      0.288\n",
            "                Gloves         31         52       0.25      0.212      0.218     0.0938\n",
            "              Footwear         31          8      0.487      0.625      0.542      0.217\n",
            "Speed: 1.4ms pre-process, 154.9ms inference, 0.0ms loss, 4.3ms post-process per image\n"
          ]
        }
      ],
      "source": [
        "#Validate Custom Model\n",
        "!yolo task=detect mode=val model=runs/detect/train/weights/best.pt data=data.yaml\n"
      ]
    },
    {
      "cell_type": "code",
      "execution_count": null,
      "metadata": {
        "colab": {
          "base_uri": "https://localhost:8080/"
        },
        "id": "EIxVZYyZRBmj",
        "outputId": "6a69a7f2-fd21-48e6-e5bd-b15a86f5715b"
      },
      "outputs": [
        {
          "output_type": "stream",
          "name": "stdout",
          "text": [
            "2024-06-12 07:59:57.206438: E external/local_xla/xla/stream_executor/cuda/cuda_dnn.cc:9261] Unable to register cuDNN factory: Attempting to register factory for plugin cuDNN when one has already been registered\n",
            "2024-06-12 07:59:57.206494: E external/local_xla/xla/stream_executor/cuda/cuda_fft.cc:607] Unable to register cuFFT factory: Attempting to register factory for plugin cuFFT when one has already been registered\n",
            "2024-06-12 07:59:57.207919: E external/local_xla/xla/stream_executor/cuda/cuda_blas.cc:1515] Unable to register cuBLAS factory: Attempting to register factory for plugin cuBLAS when one has already been registered\n",
            "2024-06-12 07:59:57.215816: I tensorflow/core/platform/cpu_feature_guard.cc:182] This TensorFlow binary is optimized to use available CPU instructions in performance-critical operations.\n",
            "To enable the following instructions: AVX2 FMA, in other operations, rebuild TensorFlow with the appropriate compiler flags.\n",
            "2024-06-12 07:59:58.941176: W tensorflow/compiler/tf2tensorrt/utils/py_utils.cc:38] TF-TRT Warning: Could not find TensorRT\n",
            "Ultralytics YOLOv8.0.20 🚀 Python-3.10.12 torch-2.3.0+cu121 CPU\n",
            "Model summary (fused): 168 layers, 11127519 parameters, 0 gradients, 28.4 GFLOPs\n",
            "image 1/1 /content/gloves2.jpeg: 160x224 2 Jackets, 1 Gloves, 247.8ms\n",
            "Speed: 0.4ms pre-process, 247.8ms inference, 2.3ms postprocess per image at shape (1, 3, 224, 224)\n"
          ]
        }
      ],
      "source": [
        "#Inference with Custom Model (inputing custom image)\n",
        "!yolo task=detect mode=predict model=runs/detect/train/weights/best.pt conf=0.25 source=/content/gloves2.jpeg\n"
      ]
    },
    {
      "cell_type": "markdown",
      "source": [
        "# Visualising our detection"
      ],
      "metadata": {
        "id": "75MckqNneg4y"
      }
    },
    {
      "cell_type": "code",
      "source": [],
      "metadata": {
        "id": "MnBPpkwghNEI"
      },
      "execution_count": null,
      "outputs": []
    },
    {
      "cell_type": "code",
      "execution_count": null,
      "metadata": {
        "id": "g3LgvFYpStBW"
      },
      "outputs": [],
      "source": [
        "import cv2\n",
        "from ultralytics import YOLO\n",
        "\n",
        "# Load the custom YOLOv8 model\n",
        "model = YOLO('/content/drive/MyDrive/Classes/YOLOv8/runs/detect/train/weights/best.pt')  # Replace with the path to your trained model"
      ]
    },
    {
      "cell_type": "code",
      "execution_count": null,
      "metadata": {
        "colab": {
          "base_uri": "https://localhost:8080/"
        },
        "id": "g6AGFV6XTzA6",
        "outputId": "30988828-d543-4c61-ec01-b1d6634692e3"
      },
      "outputs": [
        {
          "output_type": "stream",
          "name": "stderr",
          "text": [
            "Ultralytics YOLOv8.0.20 🚀 Python-3.10.12 torch-2.3.0+cu121 CPU\n",
            "Model summary (fused): 168 layers, 11127519 parameters, 0 gradients, 28.4 GFLOPs\n"
          ]
        }
      ],
      "source": [
        "# Load an image\n",
        "image_path = '/content/gloves2.jpeg'  # Replace with the path to your custom image\n",
        "image = cv2.imread(image_path)\n",
        "# Perform inference\n",
        "results = model(image)"
      ]
    },
    {
      "cell_type": "code",
      "source": [
        "# Process and visualize results\n",
        "for result in results:\n",
        "    boxes = result.boxes.xyxy  # get boxes coordinates in xyxy format\n",
        "    confidences = result.boxes.conf  # get confidence scores\n",
        "    classes = result.boxes.cls  # get class IDs\n",
        "\n",
        "    for box, confidence, cls in zip(boxes, confidences, classes):\n",
        "        x1, y1, x2, y2 = map(int, box)\n",
        "        label = f'{model.names[int(cls)]}: {confidence:.2f}'\n",
        "\n",
        "        # Draw the bounding box and label on the image\n",
        "        cv2.rectangle(image, (x1, y1), (x2, y2), (0, 255, 0), 2)\n",
        "        cv2.putText(image, label, (x1, y1 - 10), cv2.FONT_HERSHEY_SIMPLEX, 0.5, (0, 255, 0), 2)\n",
        "\n",
        "# Show the image\n",
        "from google.colab.patches import cv2_imshow\n",
        "\n",
        "# After drawing bounding boxes\n",
        "cv2_imshow(image)"
      ],
      "metadata": {
        "colab": {
          "base_uri": "https://localhost:8080/",
          "height": 200
        },
        "id": "4AUt9HlJeMU-",
        "outputId": "aefc3720-ae40-4b7d-d2c8-79e7e5a3d83e"
      },
      "execution_count": null,
      "outputs": [
        {
          "output_type": "display_data",
          "data": {
            "text/plain": [
              "<PIL.Image.Image image mode=RGB size=275x183>"
            ],
            "image/png": "[encoded data removed]"
          },
          "metadata": {}
        }
      ]
    },
    {
      "cell_type": "code",
      "source": [
        "# import os\n",
        "# import torch\n",
        "# import matplotlib.pyplot as plt\n",
        "# import matplotlib.patches as patches\n",
        "# from PIL import Image\n",
        "# from ultralytics import YOLO\n",
        "\n",
        "# # Define the paths\n",
        "# model_path = '/content/runs/detect/train2/weights/best.pt'  # Replace with your model path\n",
        "# image_path = '/content/gloves.jpeg'  # Replace with your image path\n",
        "\n",
        "\n",
        "# # Load the custom YOLOv8 model\n",
        "# model = YOLO(model_path)\n",
        "\n",
        "# # Load the image\n",
        "# image = Image.open(image_path)\n",
        "\n",
        "# # Perform inference\n",
        "# results = model(image)\n",
        "\n",
        "# # Visualize results\n",
        "# fig, ax = plt.subplots(1, figsize=(12, 9))\n",
        "\n",
        "# # Display the image\n",
        "# ax.imshow(image)\n",
        "\n",
        "# # Plot each box\n",
        "# for result in results:\n",
        "#     boxes = result.boxes.xyxy  # Get boxes coordinates in xyxy format\n",
        "#     confidences = result.boxes.conf  # Get confidence scores\n",
        "#     classes = result.boxes.cls  # Get class IDs\n",
        "\n",
        "#     for box, confidence, cls in zip(boxes, confidences, classes):\n",
        "#         x1, y1, x2, y2 = map(int, box)\n",
        "#         width, height = x2 - x1, y2 - y1\n",
        "#         label = f'{model.names[int(cls)]}: {confidence:.2f}'\n",
        "\n",
        "#         # Create a Rectangle patch\n",
        "#         rect = patches.Rectangle((x1, y1), width, height, linewidth=2, edgecolor='r', facecolor='none')\n",
        "\n",
        "#         # Add the patch to the Axes\n",
        "#         ax.add_patch(rect)\n",
        "\n",
        "#         # Add label\n",
        "#         plt.text(x1, y1, label, fontsize=12, color='white', bbox=dict(facecolor='red', alpha=0.5))\n",
        "\n",
        "# # Show the plot\n",
        "# plt.axis('off')  # Hide axes\n",
        "# plt.show()\n"
      ],
      "metadata": {
        "id": "9rX4hZ5GfJtk"
      },
      "execution_count": null,
      "outputs": []
    },
    {
      "cell_type": "code",
      "source": [
        "# !pip install pillow\n",
        "# from PIL import Image\n",
        "\n",
        "# # Load the image\n",
        "# image_path = 'path/to/your/image.jpg'  # Replace with the path to your image\n",
        "# image = Image.open(image_path)\n",
        "\n",
        "# # Display the image\n",
        "# image.show()\n"
      ],
      "metadata": {
        "id": "NXinp-8ziT9N"
      },
      "execution_count": null,
      "outputs": []
    },
    {
      "cell_type": "code",
      "source": [
        "# # import openai library\n",
        "# import openai\n",
        "\n",
        "# # Set up the OpenAI API client\n",
        "# openai.api_key = \"\"\n",
        "\n",
        "# # this loop will let us ask questions continuously and behave like ChatGPT\n",
        "# while True:\n",
        "#     # Set up the model and prompt\n",
        "#     model_engine = \"text-davinci-003\"\n",
        "\n",
        "#     prompt = input('Enter new prompt: ')\n",
        "\n",
        "#     if 'exit' in prompt or 'quit' in prompt:\n",
        "#         break\n",
        "\n",
        "#     # Generate a response\n",
        "#     completion = openai.Completion.create(\n",
        "#         engine=model_engine,\n",
        "#         prompt=prompt,\n",
        "#         max_tokens=1024,\n",
        "#         n=1,\n",
        "#         stop=None,\n",
        "#         temperature=0.5,\n",
        "#     )\n",
        "\n",
        "#     # extracting useful part of response\n",
        "#     response = completion.choices[0].text\n",
        "\n",
        "#     # printing response\n",
        "#     print(response)"
      ],
      "metadata": {
        "id": "ANZQDOTjjnF_"
      },
      "execution_count": null,
      "outputs": []
    }
  ],
  "metadata": {
    "colab": {
      "provenance": [],
      "mount_file_id": "1zeBg9Nu-aAivi9iZwCNLKQeXmbcKgh0n",
      "authorship_tag": "ABX9TyOa2EosRbvvT3/PQVoE41tD",
      "include_colab_link": true
    },
    "kernelspec": {
      "display_name": "Python 3",
      "name": "python3"
    },
    "language_info": {
      "name": "python"
    }
  },
  "nbformat": 4,
  "nbformat_minor": 0
}